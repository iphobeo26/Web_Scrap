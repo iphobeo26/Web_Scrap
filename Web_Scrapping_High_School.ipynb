{
  "nbformat": 4,
  "nbformat_minor": 0,
  "metadata": {
    "colab": {
      "name": "Web Scrapping.ipynb",
      "provenance": [],
      "collapsed_sections": [],
      "authorship_tag": "ABX9TyMGrn0jpZNDHm3In4yRpdEz",
      "include_colab_link": true
    },
    "kernelspec": {
      "name": "python3",
      "display_name": "Python 3"
    }
  },
  "cells": [
    {
      "cell_type": "markdown",
      "metadata": {
        "id": "view-in-github",
        "colab_type": "text"
      },
      "source": [
        "<a href=\"https://colab.research.google.com/github/iphobeo26/belajar-niomic/blob/master/Web_Scrapping_High_School.ipynb\" target=\"_parent\"><img src=\"https://colab.research.google.com/assets/colab-badge.svg\" alt=\"Open In Colab\"/></a>"
      ]
    },
    {
      "cell_type": "markdown",
      "metadata": {
        "id": "LWjDn8F2DxAG"
      },
      "source": [
        "Load Necessary Library"
      ]
    },
    {
      "cell_type": "code",
      "metadata": {
        "id": "i51YDLChCl7c"
      },
      "source": [
        "import requests #pip install requests\n",
        "from bs4 import BeautifulSoup as bs #pip install beautifulsoup4\n",
        "import re"
      ],
      "execution_count": 26,
      "outputs": []
    },
    {
      "cell_type": "markdown",
      "metadata": {
        "id": "xkKmove9Dzn3"
      },
      "source": [
        "Load the first page\n"
      ]
    },
    {
      "cell_type": "code",
      "metadata": {
        "id": "-4Dax4KTDvEU",
        "colab": {
          "base_uri": "https://localhost:8080/"
        },
        "outputId": "a1149b24-7a4d-4adf-8760-5a47f8c34d8c"
      },
      "source": [
        "#Load the webpage content\n",
        "r = requests.get(\"https://arsip.siap-ppdb.com/2012/jakarta/arsip/130.html\")\n",
        "\n",
        "#Convert to a Beautifulsoup Object\n",
        "soup = bs(r.content)\n",
        "\n",
        "#Print out data\n",
        "#print(soup.prettify)\n",
        "result = soup.find_all('tr', attrs={'trCap'})\n",
        "print(result)\n"
      ],
      "execution_count": 27,
      "outputs": [
        {
          "output_type": "stream",
          "text": [
            "[<tr class=\"trCap\">\n",
            "<td><b>Nama Sekolah</b></td>\n",
            "<td class=\"colEvn\"><b>Terendah</b></td>\n",
            "<td><b>Tertinggi</b></td>\n",
            "<td class=\"colEvn\"><b>Rata-rata</b></td>\n",
            "<td align=\"center\"><b>Statistik</b></td>\n",
            "</tr>]\n"
          ],
          "name": "stdout"
        }
      ]
    },
    {
      "cell_type": "markdown",
      "metadata": {
        "id": "XxIpoD9qGf5z"
      },
      "source": [
        "Find and Find_All the Table Data"
      ]
    },
    {
      "cell_type": "code",
      "metadata": {
        "id": "yUDtw7FyGL9b",
        "colab": {
          "base_uri": "https://localhost:8080/"
        },
        "outputId": "ad230280-076b-4bad-9f3e-de799d5346d1"
      },
      "source": [
        "results = soup.find_all('tr', attrs={'trEvn','trOdd'})\n",
        "print(results)"
      ],
      "execution_count": 28,
      "outputs": [
        {
          "output_type": "stream",
          "text": [
            "[<tr class=\"trOdd\">\n",
            "<td>SMA Negeri 1</td>\n",
            "<td class=\"colEvn\">8.200</td>\n",
            "<td>9.563</td>\n",
            "<td class=\"colEvn\">8.58</td>\n",
            "<td align=\"center\"> <a href=\"javascript:\" onclick=\"window.location='/2012/jakarta/arsip/13031000001.html?_='+(new Date).getTime()\"><img alt=\"Statistik\" border=\"0\" hspace=\"5\" src=\"/2012/images/cont/stat/stat.gif\" title=\"Lihat Statistik Sekolah\"/></a>\n",
            "<!--      <a href=\"javascript:\" onClick=\"window.location='/2012/jakarta/seleksi/130310000010/?_='+(new Date).getTime()\"><img src=\"/2012/images/cont/stat/hasil.gif\" title=\"Lihat Hasil Seleksi\" alt=\"Seleksi\" border=\"0\" hspace=\"5\"></a> -->\n",
            "</td>\n",
            "</tr>, <tr class=\"trEvn\">\n",
            "<td>SMA Negeri 2</td>\n",
            "<td class=\"colEvn\">7.813</td>\n",
            "<td>9.563</td>\n",
            "<td class=\"colEvn\">8.51</td>\n",
            "<td align=\"center\"> <a href=\"javascript:\" onclick=\"window.location='/2012/jakarta/arsip/13031000036.html?_='+(new Date).getTime()\"><img alt=\"Statistik\" border=\"0\" hspace=\"5\" src=\"/2012/images/cont/stat/stat.gif\" title=\"Lihat Statistik Sekolah\"/></a>\n",
            "<!--      <a href=\"javascript:\" onClick=\"window.location='/2012/jakarta/seleksi/130310000360/?_='+(new Date).getTime()\"><img src=\"/2012/images/cont/stat/hasil.gif\" title=\"Lihat Hasil Seleksi\" alt=\"Seleksi\" border=\"0\" hspace=\"5\"></a> -->\n",
            "</td>\n",
            "</tr>, <tr class=\"trOdd\">\n",
            "<td>SMA Negeri 4</td>\n",
            "<td class=\"colEvn\">7.613</td>\n",
            "<td>9.175</td>\n",
            "<td class=\"colEvn\">8.05</td>\n",
            "<td align=\"center\"> <a href=\"javascript:\" onclick=\"window.location='/2012/jakarta/arsip/13031000009.html?_='+(new Date).getTime()\"><img alt=\"Statistik\" border=\"0\" hspace=\"5\" src=\"/2012/images/cont/stat/stat.gif\" title=\"Lihat Statistik Sekolah\"/></a>\n",
            "<!--      <a href=\"javascript:\" onClick=\"window.location='/2012/jakarta/seleksi/130310000090/?_='+(new Date).getTime()\"><img src=\"/2012/images/cont/stat/hasil.gif\" title=\"Lihat Hasil Seleksi\" alt=\"Seleksi\" border=\"0\" hspace=\"5\"></a> -->\n",
            "</td>\n",
            "</tr>, <tr class=\"trEvn\">\n",
            "<td>SMA Negeri 5</td>\n",
            "<td class=\"colEvn\">6.700</td>\n",
            "<td>9.338</td>\n",
            "<td class=\"colEvn\">7.44</td>\n",
            "<td align=\"center\"> <a href=\"javascript:\" onclick=\"window.location='/2012/jakarta/arsip/13031000010.html?_='+(new Date).getTime()\"><img alt=\"Statistik\" border=\"0\" hspace=\"5\" src=\"/2012/images/cont/stat/stat.gif\" title=\"Lihat Statistik Sekolah\"/></a>\n",
            "<!--      <a href=\"javascript:\" onClick=\"window.location='/2012/jakarta/seleksi/130310000100/?_='+(new Date).getTime()\"><img src=\"/2012/images/cont/stat/hasil.gif\" title=\"Lihat Hasil Seleksi\" alt=\"Seleksi\" border=\"0\" hspace=\"5\"></a> -->\n",
            "</td>\n",
            "</tr>, <tr class=\"trOdd\">\n",
            "<td>SMA Negeri 6</td>\n",
            "<td class=\"colEvn\">8.900</td>\n",
            "<td>9.775</td>\n",
            "<td class=\"colEvn\">9.09</td>\n",
            "<td align=\"center\"> <a href=\"javascript:\" onclick=\"window.location='/2012/jakarta/arsip/13031000063.html?_='+(new Date).getTime()\"><img alt=\"Statistik\" border=\"0\" hspace=\"5\" src=\"/2012/images/cont/stat/stat.gif\" title=\"Lihat Statistik Sekolah\"/></a>\n",
            "<!--      <a href=\"javascript:\" onClick=\"window.location='/2012/jakarta/seleksi/130310000630/?_='+(new Date).getTime()\"><img src=\"/2012/images/cont/stat/hasil.gif\" title=\"Lihat Hasil Seleksi\" alt=\"Seleksi\" border=\"0\" hspace=\"5\"></a> -->\n",
            "</td>\n",
            "</tr>, <tr class=\"trEvn\">\n",
            "<td>SMA Negeri 7</td>\n",
            "<td class=\"colEvn\">6.638</td>\n",
            "<td>9.113</td>\n",
            "<td class=\"colEvn\">7.12</td>\n",
            "<td align=\"center\"> <a href=\"javascript:\" onclick=\"window.location='/2012/jakarta/arsip/13031000012.html?_='+(new Date).getTime()\"><img alt=\"Statistik\" border=\"0\" hspace=\"5\" src=\"/2012/images/cont/stat/stat.gif\" title=\"Lihat Statistik Sekolah\"/></a>\n",
            "<!--      <a href=\"javascript:\" onClick=\"window.location='/2012/jakarta/seleksi/130310000120/?_='+(new Date).getTime()\"><img src=\"/2012/images/cont/stat/hasil.gif\" title=\"Lihat Hasil Seleksi\" alt=\"Seleksi\" border=\"0\" hspace=\"5\"></a> -->\n",
            "</td>\n",
            "</tr>, <tr class=\"trOdd\">\n",
            "<td>SMA Negeri 9</td>\n",
            "<td class=\"colEvn\">7.450</td>\n",
            "<td>8.950</td>\n",
            "<td class=\"colEvn\">7.89</td>\n",
            "<td align=\"center\"> <a href=\"javascript:\" onclick=\"window.location='/2012/jakarta/arsip/13031000111.html?_='+(new Date).getTime()\"><img alt=\"Statistik\" border=\"0\" hspace=\"5\" src=\"/2012/images/cont/stat/stat.gif\" title=\"Lihat Statistik Sekolah\"/></a>\n",
            "<!--      <a href=\"javascript:\" onClick=\"window.location='/2012/jakarta/seleksi/130310001110/?_='+(new Date).getTime()\"><img src=\"/2012/images/cont/stat/hasil.gif\" title=\"Lihat Hasil Seleksi\" alt=\"Seleksi\" border=\"0\" hspace=\"5\"></a> -->\n",
            "</td>\n",
            "</tr>, <tr class=\"trEvn\">\n",
            "<td>SMA Negeri 10</td>\n",
            "<td class=\"colEvn\">4.488</td>\n",
            "<td>8.525</td>\n",
            "<td class=\"colEvn\">5.98</td>\n",
            "<td align=\"center\"> <a href=\"javascript:\" onclick=\"window.location='/2012/jakarta/arsip/13031000002.html?_='+(new Date).getTime()\"><img alt=\"Statistik\" border=\"0\" hspace=\"5\" src=\"/2012/images/cont/stat/stat.gif\" title=\"Lihat Statistik Sekolah\"/></a>\n",
            "<!--      <a href=\"javascript:\" onClick=\"window.location='/2012/jakarta/seleksi/130310000020/?_='+(new Date).getTime()\"><img src=\"/2012/images/cont/stat/hasil.gif\" title=\"Lihat Hasil Seleksi\" alt=\"Seleksi\" border=\"0\" hspace=\"5\"></a> -->\n",
            "</td>\n",
            "</tr>, <tr class=\"trOdd\">\n",
            "<td>SMA Negeri 11</td>\n",
            "<td class=\"colEvn\">7.000</td>\n",
            "<td>8.913</td>\n",
            "<td class=\"colEvn\">7.57</td>\n",
            "<td align=\"center\"> <a href=\"javascript:\" onclick=\"window.location='/2012/jakarta/arsip/13031000084.html?_='+(new Date).getTime()\"><img alt=\"Statistik\" border=\"0\" hspace=\"5\" src=\"/2012/images/cont/stat/stat.gif\" title=\"Lihat Statistik Sekolah\"/></a>\n",
            "<!--      <a href=\"javascript:\" onClick=\"window.location='/2012/jakarta/seleksi/130310000840/?_='+(new Date).getTime()\"><img src=\"/2012/images/cont/stat/hasil.gif\" title=\"Lihat Hasil Seleksi\" alt=\"Seleksi\" border=\"0\" hspace=\"5\"></a> -->\n",
            "</td>\n",
            "</tr>, <tr class=\"trEvn\">\n",
            "<td>SMA Negeri 12</td>\n",
            "<td class=\"colEvn\">8.900</td>\n",
            "<td>9.838</td>\n",
            "<td class=\"colEvn\">9.13</td>\n",
            "<td align=\"center\"> <a href=\"javascript:\" onclick=\"window.location='/2012/jakarta/arsip/13031000086.html?_='+(new Date).getTime()\"><img alt=\"Statistik\" border=\"0\" hspace=\"5\" src=\"/2012/images/cont/stat/stat.gif\" title=\"Lihat Statistik Sekolah\"/></a>\n",
            "<!--      <a href=\"javascript:\" onClick=\"window.location='/2012/jakarta/seleksi/130310000860/?_='+(new Date).getTime()\"><img src=\"/2012/images/cont/stat/hasil.gif\" title=\"Lihat Hasil Seleksi\" alt=\"Seleksi\" border=\"0\" hspace=\"5\"></a> -->\n",
            "</td>\n",
            "</tr>, <tr class=\"trOdd\">\n",
            "<td>SMA Negeri 14</td>\n",
            "<td class=\"colEvn\">8.800</td>\n",
            "<td>9.625</td>\n",
            "<td class=\"colEvn\">9.04</td>\n",
            "<td align=\"center\"> <a href=\"javascript:\" onclick=\"window.location='/2012/jakarta/arsip/13031000087.html?_='+(new Date).getTime()\"><img alt=\"Statistik\" border=\"0\" hspace=\"5\" src=\"/2012/images/cont/stat/stat.gif\" title=\"Lihat Statistik Sekolah\"/></a>\n",
            "<!--      <a href=\"javascript:\" onClick=\"window.location='/2012/jakarta/seleksi/130310000870/?_='+(new Date).getTime()\"><img src=\"/2012/images/cont/stat/hasil.gif\" title=\"Lihat Hasil Seleksi\" alt=\"Seleksi\" border=\"0\" hspace=\"5\"></a> -->\n",
            "</td>\n",
            "</tr>, <tr class=\"trEvn\">\n",
            "<td>SMA Negeri 15</td>\n",
            "<td class=\"colEvn\">4.850</td>\n",
            "<td>9.063</td>\n",
            "<td class=\"colEvn\">5.72</td>\n",
            "<td align=\"center\"> <a href=\"javascript:\" onclick=\"window.location='/2012/jakarta/arsip/13031000019.html?_='+(new Date).getTime()\"><img alt=\"Statistik\" border=\"0\" hspace=\"5\" src=\"/2012/images/cont/stat/stat.gif\" title=\"Lihat Statistik Sekolah\"/></a>\n",
            "<!--      <a href=\"javascript:\" onClick=\"window.location='/2012/jakarta/seleksi/130310000190/?_='+(new Date).getTime()\"><img src=\"/2012/images/cont/stat/hasil.gif\" title=\"Lihat Hasil Seleksi\" alt=\"Seleksi\" border=\"0\" hspace=\"5\"></a> -->\n",
            "</td>\n",
            "</tr>, <tr class=\"trOdd\">\n",
            "<td>SMA Negeri 16</td>\n",
            "<td class=\"colEvn\">7.275</td>\n",
            "<td>9.238</td>\n",
            "<td class=\"colEvn\">7.8</td>\n",
            "<td align=\"center\"> <a href=\"javascript:\" onclick=\"window.location='/2012/jakarta/arsip/13031000033.html?_='+(new Date).getTime()\"><img alt=\"Statistik\" border=\"0\" hspace=\"5\" src=\"/2012/images/cont/stat/stat.gif\" title=\"Lihat Statistik Sekolah\"/></a>\n",
            "<!--      <a href=\"javascript:\" onClick=\"window.location='/2012/jakarta/seleksi/130310000330/?_='+(new Date).getTime()\"><img src=\"/2012/images/cont/stat/hasil.gif\" title=\"Lihat Hasil Seleksi\" alt=\"Seleksi\" border=\"0\" hspace=\"5\"></a> -->\n",
            "</td>\n",
            "</tr>, <tr class=\"trEvn\">\n",
            "<td>SMA Negeri 17</td>\n",
            "<td class=\"colEvn\">5.038</td>\n",
            "<td>8.100</td>\n",
            "<td class=\"colEvn\">6.15</td>\n",
            "<td align=\"center\"> <a href=\"javascript:\" onclick=\"window.location='/2012/jakarta/arsip/13031000034.html?_='+(new Date).getTime()\"><img alt=\"Statistik\" border=\"0\" hspace=\"5\" src=\"/2012/images/cont/stat/stat.gif\" title=\"Lihat Statistik Sekolah\"/></a>\n",
            "<!--      <a href=\"javascript:\" onClick=\"window.location='/2012/jakarta/seleksi/130310000340/?_='+(new Date).getTime()\"><img src=\"/2012/images/cont/stat/hasil.gif\" title=\"Lihat Hasil Seleksi\" alt=\"Seleksi\" border=\"0\" hspace=\"5\"></a> -->\n",
            "</td>\n",
            "</tr>, <tr class=\"trOdd\">\n",
            "<td>SMA Negeri 18</td>\n",
            "<td class=\"colEvn\">4.700</td>\n",
            "<td>8.813</td>\n",
            "<td class=\"colEvn\">6.13</td>\n",
            "<td align=\"center\"> <a href=\"javascript:\" onclick=\"window.location='/2012/jakarta/arsip/13031000020.html?_='+(new Date).getTime()\"><img alt=\"Statistik\" border=\"0\" hspace=\"5\" src=\"/2012/images/cont/stat/stat.gif\" title=\"Lihat Statistik Sekolah\"/></a>\n",
            "<!--      <a href=\"javascript:\" onClick=\"window.location='/2012/jakarta/seleksi/130310000200/?_='+(new Date).getTime()\"><img src=\"/2012/images/cont/stat/hasil.gif\" title=\"Lihat Hasil Seleksi\" alt=\"Seleksi\" border=\"0\" hspace=\"5\"></a> -->\n",
            "</td>\n",
            "</tr>, <tr class=\"trEvn\">\n",
            "<td>SMA Negeri 19</td>\n",
            "<td class=\"colEvn\">5.000</td>\n",
            "<td>7.988</td>\n",
            "<td class=\"colEvn\">6.27</td>\n",
            "<td align=\"center\"> <a href=\"javascript:\" onclick=\"window.location='/2012/jakarta/arsip/13031000035.html?_='+(new Date).getTime()\"><img alt=\"Statistik\" border=\"0\" hspace=\"5\" src=\"/2012/images/cont/stat/stat.gif\" title=\"Lihat Statistik Sekolah\"/></a>\n",
            "<!--      <a href=\"javascript:\" onClick=\"window.location='/2012/jakarta/seleksi/130310000350/?_='+(new Date).getTime()\"><img src=\"/2012/images/cont/stat/hasil.gif\" title=\"Lihat Hasil Seleksi\" alt=\"Seleksi\" border=\"0\" hspace=\"5\"></a> -->\n",
            "</td>\n",
            "</tr>, <tr class=\"trOdd\">\n",
            "<td>SMA Negeri 20</td>\n",
            "<td class=\"colEvn\">5.325</td>\n",
            "<td>7.900</td>\n",
            "<td class=\"colEvn\">6.13</td>\n",
            "<td align=\"center\"> <a href=\"javascript:\" onclick=\"window.location='/2012/jakarta/arsip/13031000003.html?_='+(new Date).getTime()\"><img alt=\"Statistik\" border=\"0\" hspace=\"5\" src=\"/2012/images/cont/stat/stat.gif\" title=\"Lihat Statistik Sekolah\"/></a>\n",
            "<!--      <a href=\"javascript:\" onClick=\"window.location='/2012/jakarta/seleksi/130310000030/?_='+(new Date).getTime()\"><img src=\"/2012/images/cont/stat/hasil.gif\" title=\"Lihat Hasil Seleksi\" alt=\"Seleksi\" border=\"0\" hspace=\"5\"></a> -->\n",
            "</td>\n",
            "</tr>, <tr class=\"trEvn\">\n",
            "<td>SMA Negeri 22</td>\n",
            "<td class=\"colEvn\">7.013</td>\n",
            "<td>9.563</td>\n",
            "<td class=\"colEvn\">7.5</td>\n",
            "<td align=\"center\"> <a href=\"javascript:\" onclick=\"window.location='/2012/jakarta/arsip/13031000089.html?_='+(new Date).getTime()\"><img alt=\"Statistik\" border=\"0\" hspace=\"5\" src=\"/2012/images/cont/stat/stat.gif\" title=\"Lihat Statistik Sekolah\"/></a>\n",
            "<!--      <a href=\"javascript:\" onClick=\"window.location='/2012/jakarta/seleksi/130310000890/?_='+(new Date).getTime()\"><img src=\"/2012/images/cont/stat/hasil.gif\" title=\"Lihat Hasil Seleksi\" alt=\"Seleksi\" border=\"0\" hspace=\"5\"></a> -->\n",
            "</td>\n",
            "</tr>, <tr class=\"trOdd\">\n",
            "<td>SMA Negeri 23</td>\n",
            "<td class=\"colEvn\">6.788</td>\n",
            "<td>9.188</td>\n",
            "<td class=\"colEvn\">7.24</td>\n",
            "<td align=\"center\"> <a href=\"javascript:\" onclick=\"window.location='/2012/jakarta/arsip/13031000037.html?_='+(new Date).getTime()\"><img alt=\"Statistik\" border=\"0\" hspace=\"5\" src=\"/2012/images/cont/stat/stat.gif\" title=\"Lihat Statistik Sekolah\"/></a>\n",
            "<!--      <a href=\"javascript:\" onClick=\"window.location='/2012/jakarta/seleksi/130310000370/?_='+(new Date).getTime()\"><img src=\"/2012/images/cont/stat/hasil.gif\" title=\"Lihat Hasil Seleksi\" alt=\"Seleksi\" border=\"0\" hspace=\"5\"></a> -->\n",
            "</td>\n",
            "</tr>, <tr class=\"trEvn\">\n",
            "<td>SMA Negeri 24</td>\n",
            "<td class=\"colEvn\">7.613</td>\n",
            "<td>8.975</td>\n",
            "<td class=\"colEvn\">7.96</td>\n",
            "<td align=\"center\"> <a href=\"javascript:\" onclick=\"window.location='/2012/jakarta/arsip/13031000004.html?_='+(new Date).getTime()\"><img alt=\"Statistik\" border=\"0\" hspace=\"5\" src=\"/2012/images/cont/stat/stat.gif\" title=\"Lihat Statistik Sekolah\"/></a>\n",
            "<!--      <a href=\"javascript:\" onClick=\"window.location='/2012/jakarta/seleksi/130310000040/?_='+(new Date).getTime()\"><img src=\"/2012/images/cont/stat/hasil.gif\" title=\"Lihat Hasil Seleksi\" alt=\"Seleksi\" border=\"0\" hspace=\"5\"></a> -->\n",
            "</td>\n",
            "</tr>, <tr class=\"trOdd\">\n",
            "<td>SMA Negeri 25</td>\n",
            "<td class=\"colEvn\">6.463</td>\n",
            "<td>9.075</td>\n",
            "<td class=\"colEvn\">6.98</td>\n",
            "<td align=\"center\"> <a href=\"javascript:\" onclick=\"window.location='/2012/jakarta/arsip/13031000005.html?_='+(new Date).getTime()\"><img alt=\"Statistik\" border=\"0\" hspace=\"5\" src=\"/2012/images/cont/stat/stat.gif\" title=\"Lihat Statistik Sekolah\"/></a>\n",
            "<!--      <a href=\"javascript:\" onClick=\"window.location='/2012/jakarta/seleksi/130310000050/?_='+(new Date).getTime()\"><img src=\"/2012/images/cont/stat/hasil.gif\" title=\"Lihat Hasil Seleksi\" alt=\"Seleksi\" border=\"0\" hspace=\"5\"></a> -->\n",
            "</td>\n",
            "</tr>, <tr class=\"trEvn\">\n",
            "<td>SMA Negeri 26</td>\n",
            "<td class=\"colEvn\">9.188</td>\n",
            "<td>9.850</td>\n",
            "<td class=\"colEvn\">9.37</td>\n",
            "<td align=\"center\"> <a href=\"javascript:\" onclick=\"window.location='/2012/jakarta/arsip/13031000050.html?_='+(new Date).getTime()\"><img alt=\"Statistik\" border=\"0\" hspace=\"5\" src=\"/2012/images/cont/stat/stat.gif\" title=\"Lihat Statistik Sekolah\"/></a>\n",
            "<!--      <a href=\"javascript:\" onClick=\"window.location='/2012/jakarta/seleksi/130310000500/?_='+(new Date).getTime()\"><img src=\"/2012/images/cont/stat/hasil.gif\" title=\"Lihat Hasil Seleksi\" alt=\"Seleksi\" border=\"0\" hspace=\"5\"></a> -->\n",
            "</td>\n",
            "</tr>, <tr class=\"trOdd\">\n",
            "<td>SMA Negeri 27</td>\n",
            "<td class=\"colEvn\">6.575</td>\n",
            "<td>9.200</td>\n",
            "<td class=\"colEvn\">7.12</td>\n",
            "<td align=\"center\"> <a href=\"javascript:\" onclick=\"window.location='/2012/jakarta/arsip/13031000006.html?_='+(new Date).getTime()\"><img alt=\"Statistik\" border=\"0\" hspace=\"5\" src=\"/2012/images/cont/stat/stat.gif\" title=\"Lihat Statistik Sekolah\"/></a>\n",
            "<!--      <a href=\"javascript:\" onClick=\"window.location='/2012/jakarta/seleksi/130310000060/?_='+(new Date).getTime()\"><img src=\"/2012/images/cont/stat/hasil.gif\" title=\"Lihat Hasil Seleksi\" alt=\"Seleksi\" border=\"0\" hspace=\"5\"></a> -->\n",
            "</td>\n",
            "</tr>, <tr class=\"trEvn\">\n",
            "<td>SMA Negeri 29</td>\n",
            "<td class=\"colEvn\">8.300</td>\n",
            "<td>9.775</td>\n",
            "<td class=\"colEvn\">8.63</td>\n",
            "<td align=\"center\"> <a href=\"javascript:\" onclick=\"window.location='/2012/jakarta/arsip/13031000052.html?_='+(new Date).getTime()\"><img alt=\"Statistik\" border=\"0\" hspace=\"5\" src=\"/2012/images/cont/stat/stat.gif\" title=\"Lihat Statistik Sekolah\"/></a>\n",
            "<!--      <a href=\"javascript:\" onClick=\"window.location='/2012/jakarta/seleksi/130310000520/?_='+(new Date).getTime()\"><img src=\"/2012/images/cont/stat/hasil.gif\" title=\"Lihat Hasil Seleksi\" alt=\"Seleksi\" border=\"0\" hspace=\"5\"></a> -->\n",
            "</td>\n",
            "</tr>, <tr class=\"trOdd\">\n",
            "<td>SMA Negeri 30</td>\n",
            "<td class=\"colEvn\">6.863</td>\n",
            "<td>9.038</td>\n",
            "<td class=\"colEvn\">7.42</td>\n",
            "<td align=\"center\"> <a href=\"javascript:\" onclick=\"window.location='/2012/jakarta/arsip/13031000007.html?_='+(new Date).getTime()\"><img alt=\"Statistik\" border=\"0\" hspace=\"5\" src=\"/2012/images/cont/stat/stat.gif\" title=\"Lihat Statistik Sekolah\"/></a>\n",
            "<!--      <a href=\"javascript:\" onClick=\"window.location='/2012/jakarta/seleksi/130310000070/?_='+(new Date).getTime()\"><img src=\"/2012/images/cont/stat/hasil.gif\" title=\"Lihat Hasil Seleksi\" alt=\"Seleksi\" border=\"0\" hspace=\"5\"></a> -->\n",
            "</td>\n",
            "</tr>, <tr class=\"trEvn\">\n",
            "<td>SMA Negeri 31</td>\n",
            "<td class=\"colEvn\">7.888</td>\n",
            "<td>9.563</td>\n",
            "<td class=\"colEvn\">8.3</td>\n",
            "<td align=\"center\"> <a href=\"javascript:\" onclick=\"window.location='/2012/jakarta/arsip/13031000090.html?_='+(new Date).getTime()\"><img alt=\"Statistik\" border=\"0\" hspace=\"5\" src=\"/2012/images/cont/stat/stat.gif\" title=\"Lihat Statistik Sekolah\"/></a>\n",
            "<!--      <a href=\"javascript:\" onClick=\"window.location='/2012/jakarta/seleksi/130310000900/?_='+(new Date).getTime()\"><img src=\"/2012/images/cont/stat/hasil.gif\" title=\"Lihat Hasil Seleksi\" alt=\"Seleksi\" border=\"0\" hspace=\"5\"></a> -->\n",
            "</td>\n",
            "</tr>, <tr class=\"trOdd\">\n",
            "<td>SMA Negeri 32</td>\n",
            "<td class=\"colEvn\">7.900</td>\n",
            "<td>9.100</td>\n",
            "<td class=\"colEvn\">8.26</td>\n",
            "<td align=\"center\"> <a href=\"javascript:\" onclick=\"window.location='/2012/jakarta/arsip/13031000054.html?_='+(new Date).getTime()\"><img alt=\"Statistik\" border=\"0\" hspace=\"5\" src=\"/2012/images/cont/stat/stat.gif\" title=\"Lihat Statistik Sekolah\"/></a>\n",
            "<!--      <a href=\"javascript:\" onClick=\"window.location='/2012/jakarta/seleksi/130310000540/?_='+(new Date).getTime()\"><img src=\"/2012/images/cont/stat/hasil.gif\" title=\"Lihat Hasil Seleksi\" alt=\"Seleksi\" border=\"0\" hspace=\"5\"></a> -->\n",
            "</td>\n",
            "</tr>, <tr class=\"trEvn\">\n",
            "<td>SMA Negeri 33</td>\n",
            "<td class=\"colEvn\">8.113</td>\n",
            "<td>9.588</td>\n",
            "<td class=\"colEvn\">8.61</td>\n",
            "<td align=\"center\"> <a href=\"javascript:\" onclick=\"window.location='/2012/jakarta/arsip/13031000038.html?_='+(new Date).getTime()\"><img alt=\"Statistik\" border=\"0\" hspace=\"5\" src=\"/2012/images/cont/stat/stat.gif\" title=\"Lihat Statistik Sekolah\"/></a>\n",
            "<!--      <a href=\"javascript:\" onClick=\"window.location='/2012/jakarta/seleksi/130310000380/?_='+(new Date).getTime()\"><img src=\"/2012/images/cont/stat/hasil.gif\" title=\"Lihat Hasil Seleksi\" alt=\"Seleksi\" border=\"0\" hspace=\"5\"></a> -->\n",
            "</td>\n",
            "</tr>, <tr class=\"trOdd\">\n",
            "<td>SMA Negeri 34</td>\n",
            "<td class=\"colEvn\">9.238</td>\n",
            "<td>9.788</td>\n",
            "<td class=\"colEvn\">9.4</td>\n",
            "<td align=\"center\"> <a href=\"javascript:\" onclick=\"window.location='/2012/jakarta/arsip/13031000055.html?_='+(new Date).getTime()\"><img alt=\"Statistik\" border=\"0\" hspace=\"5\" src=\"/2012/images/cont/stat/stat.gif\" title=\"Lihat Statistik Sekolah\"/></a>\n",
            "<!--      <a href=\"javascript:\" onClick=\"window.location='/2012/jakarta/seleksi/130310000550/?_='+(new Date).getTime()\"><img src=\"/2012/images/cont/stat/hasil.gif\" title=\"Lihat Hasil Seleksi\" alt=\"Seleksi\" border=\"0\" hspace=\"5\"></a> -->\n",
            "</td>\n",
            "</tr>, <tr class=\"trEvn\">\n",
            "<td>SMA Negeri 35</td>\n",
            "<td class=\"colEvn\">7.163</td>\n",
            "<td>9.275</td>\n",
            "<td class=\"colEvn\">7.85</td>\n",
            "<td align=\"center\"> <a href=\"javascript:\" onclick=\"window.location='/2012/jakarta/arsip/13031000008.html?_='+(new Date).getTime()\"><img alt=\"Statistik\" border=\"0\" hspace=\"5\" src=\"/2012/images/cont/stat/stat.gif\" title=\"Lihat Statistik Sekolah\"/></a>\n",
            "<!--      <a href=\"javascript:\" onClick=\"window.location='/2012/jakarta/seleksi/130310000080/?_='+(new Date).getTime()\"><img src=\"/2012/images/cont/stat/hasil.gif\" title=\"Lihat Hasil Seleksi\" alt=\"Seleksi\" border=\"0\" hspace=\"5\"></a> -->\n",
            "</td>\n",
            "</tr>, <tr class=\"trOdd\">\n",
            "<td>SMA Negeri 36</td>\n",
            "<td class=\"colEvn\">7.288</td>\n",
            "<td>9.175</td>\n",
            "<td class=\"colEvn\">7.75</td>\n",
            "<td align=\"center\"> <a href=\"javascript:\" onclick=\"window.location='/2012/jakarta/arsip/13031000091.html?_='+(new Date).getTime()\"><img alt=\"Statistik\" border=\"0\" hspace=\"5\" src=\"/2012/images/cont/stat/stat.gif\" title=\"Lihat Statistik Sekolah\"/></a>\n",
            "<!--      <a href=\"javascript:\" onClick=\"window.location='/2012/jakarta/seleksi/130310000910/?_='+(new Date).getTime()\"><img src=\"/2012/images/cont/stat/hasil.gif\" title=\"Lihat Hasil Seleksi\" alt=\"Seleksi\" border=\"0\" hspace=\"5\"></a> -->\n",
            "</td>\n",
            "</tr>, <tr class=\"trEvn\">\n",
            "<td>SMA Negeri 37</td>\n",
            "<td class=\"colEvn\">7.838</td>\n",
            "<td>9.275</td>\n",
            "<td class=\"colEvn\">8.25</td>\n",
            "<td align=\"center\"> <a href=\"javascript:\" onclick=\"window.location='/2012/jakarta/arsip/13031000056.html?_='+(new Date).getTime()\"><img alt=\"Statistik\" border=\"0\" hspace=\"5\" src=\"/2012/images/cont/stat/stat.gif\" title=\"Lihat Statistik Sekolah\"/></a>\n",
            "<!--      <a href=\"javascript:\" onClick=\"window.location='/2012/jakarta/seleksi/130310000560/?_='+(new Date).getTime()\"><img src=\"/2012/images/cont/stat/hasil.gif\" title=\"Lihat Hasil Seleksi\" alt=\"Seleksi\" border=\"0\" hspace=\"5\"></a> -->\n",
            "</td>\n",
            "</tr>, <tr class=\"trOdd\">\n",
            "<td>SMA Negeri 38</td>\n",
            "<td class=\"colEvn\">8.850</td>\n",
            "<td>9.588</td>\n",
            "<td class=\"colEvn\">9.07</td>\n",
            "<td align=\"center\"> <a href=\"javascript:\" onclick=\"window.location='/2012/jakarta/arsip/13031000057.html?_='+(new Date).getTime()\"><img alt=\"Statistik\" border=\"0\" hspace=\"5\" src=\"/2012/images/cont/stat/stat.gif\" title=\"Lihat Statistik Sekolah\"/></a>\n",
            "<!--      <a href=\"javascript:\" onClick=\"window.location='/2012/jakarta/seleksi/130310000570/?_='+(new Date).getTime()\"><img src=\"/2012/images/cont/stat/hasil.gif\" title=\"Lihat Hasil Seleksi\" alt=\"Seleksi\" border=\"0\" hspace=\"5\"></a> -->\n",
            "</td>\n",
            "</tr>, <tr class=\"trEvn\">\n",
            "<td>SMA Negeri 39</td>\n",
            "<td class=\"colEvn\">9.150</td>\n",
            "<td>9.775</td>\n",
            "<td class=\"colEvn\">9.32</td>\n",
            "<td align=\"center\"> <a href=\"javascript:\" onclick=\"window.location='/2012/jakarta/arsip/13031000092.html?_='+(new Date).getTime()\"><img alt=\"Statistik\" border=\"0\" hspace=\"5\" src=\"/2012/images/cont/stat/stat.gif\" title=\"Lihat Statistik Sekolah\"/></a>\n",
            "<!--      <a href=\"javascript:\" onClick=\"window.location='/2012/jakarta/seleksi/130310000920/?_='+(new Date).getTime()\"><img src=\"/2012/images/cont/stat/hasil.gif\" title=\"Lihat Hasil Seleksi\" alt=\"Seleksi\" border=\"0\" hspace=\"5\"></a> -->\n",
            "</td>\n",
            "</tr>, <tr class=\"trOdd\">\n",
            "<td>SMA Negeri 40</td>\n",
            "<td class=\"colEvn\">5.438</td>\n",
            "<td>8.963</td>\n",
            "<td class=\"colEvn\">6.33</td>\n",
            "<td align=\"center\"> <a href=\"javascript:\" onclick=\"window.location='/2012/jakarta/arsip/13031000021.html?_='+(new Date).getTime()\"><img alt=\"Statistik\" border=\"0\" hspace=\"5\" src=\"/2012/images/cont/stat/stat.gif\" title=\"Lihat Statistik Sekolah\"/></a>\n",
            "<!--      <a href=\"javascript:\" onClick=\"window.location='/2012/jakarta/seleksi/130310000210/?_='+(new Date).getTime()\"><img src=\"/2012/images/cont/stat/hasil.gif\" title=\"Lihat Hasil Seleksi\" alt=\"Seleksi\" border=\"0\" hspace=\"5\"></a> -->\n",
            "</td>\n",
            "</tr>, <tr class=\"trEvn\">\n",
            "<td>SMA Negeri 41</td>\n",
            "<td class=\"colEvn\">5.275</td>\n",
            "<td>8.098</td>\n",
            "<td class=\"colEvn\">6.01</td>\n",
            "<td align=\"center\"> <a href=\"javascript:\" onclick=\"window.location='/2012/jakarta/arsip/13031000022.html?_='+(new Date).getTime()\"><img alt=\"Statistik\" border=\"0\" hspace=\"5\" src=\"/2012/images/cont/stat/stat.gif\" title=\"Lihat Statistik Sekolah\"/></a>\n",
            "<!--      <a href=\"javascript:\" onClick=\"window.location='/2012/jakarta/seleksi/130310000220/?_='+(new Date).getTime()\"><img src=\"/2012/images/cont/stat/hasil.gif\" title=\"Lihat Hasil Seleksi\" alt=\"Seleksi\" border=\"0\" hspace=\"5\"></a> -->\n",
            "</td>\n",
            "</tr>, <tr class=\"trOdd\">\n",
            "<td>SMA Negeri 42</td>\n",
            "<td class=\"colEvn\">8.288</td>\n",
            "<td>9.563</td>\n",
            "<td class=\"colEvn\">8.52</td>\n",
            "<td align=\"center\"> <a href=\"javascript:\" onclick=\"window.location='/2012/jakarta/arsip/13031000093.html?_='+(new Date).getTime()\"><img alt=\"Statistik\" border=\"0\" hspace=\"5\" src=\"/2012/images/cont/stat/stat.gif\" title=\"Lihat Statistik Sekolah\"/></a>\n",
            "<!--      <a href=\"javascript:\" onClick=\"window.location='/2012/jakarta/seleksi/130310000930/?_='+(new Date).getTime()\"><img src=\"/2012/images/cont/stat/hasil.gif\" title=\"Lihat Hasil Seleksi\" alt=\"Seleksi\" border=\"0\" hspace=\"5\"></a> -->\n",
            "</td>\n",
            "</tr>, <tr class=\"trEvn\">\n",
            "<td>SMA Negeri 43</td>\n",
            "<td class=\"colEvn\">7.363</td>\n",
            "<td>9.375</td>\n",
            "<td class=\"colEvn\">7.84</td>\n",
            "<td align=\"center\"> <a href=\"javascript:\" onclick=\"window.location='/2012/jakarta/arsip/13031000058.html?_='+(new Date).getTime()\"><img alt=\"Statistik\" border=\"0\" hspace=\"5\" src=\"/2012/images/cont/stat/stat.gif\" title=\"Lihat Statistik Sekolah\"/></a>\n",
            "<!--      <a href=\"javascript:\" onClick=\"window.location='/2012/jakarta/seleksi/130310000580/?_='+(new Date).getTime()\"><img src=\"/2012/images/cont/stat/hasil.gif\" title=\"Lihat Hasil Seleksi\" alt=\"Seleksi\" border=\"0\" hspace=\"5\"></a> -->\n",
            "</td>\n",
            "</tr>, <tr class=\"trOdd\">\n",
            "<td>SMA Negeri 44</td>\n",
            "<td class=\"colEvn\">8.338</td>\n",
            "<td>9.400</td>\n",
            "<td class=\"colEvn\">8.56</td>\n",
            "<td align=\"center\"> <a href=\"javascript:\" onclick=\"window.location='/2012/jakarta/arsip/13031000094.html?_='+(new Date).getTime()\"><img alt=\"Statistik\" border=\"0\" hspace=\"5\" src=\"/2012/images/cont/stat/stat.gif\" title=\"Lihat Statistik Sekolah\"/></a>\n",
            "<!--      <a href=\"javascript:\" onClick=\"window.location='/2012/jakarta/seleksi/130310000940/?_='+(new Date).getTime()\"><img src=\"/2012/images/cont/stat/hasil.gif\" title=\"Lihat Hasil Seleksi\" alt=\"Seleksi\" border=\"0\" hspace=\"5\"></a> -->\n",
            "</td>\n",
            "</tr>, <tr class=\"trEvn\">\n",
            "<td>SMA Negeri 45</td>\n",
            "<td class=\"colEvn\">5.675</td>\n",
            "<td>9.288</td>\n",
            "<td class=\"colEvn\">6.53</td>\n",
            "<td align=\"center\"> <a href=\"javascript:\" onclick=\"window.location='/2012/jakarta/arsip/13031000023.html?_='+(new Date).getTime()\"><img alt=\"Statistik\" border=\"0\" hspace=\"5\" src=\"/2012/images/cont/stat/stat.gif\" title=\"Lihat Statistik Sekolah\"/></a>\n",
            "<!--      <a href=\"javascript:\" onClick=\"window.location='/2012/jakarta/seleksi/130310000230/?_='+(new Date).getTime()\"><img src=\"/2012/images/cont/stat/hasil.gif\" title=\"Lihat Hasil Seleksi\" alt=\"Seleksi\" border=\"0\" hspace=\"5\"></a> -->\n",
            "</td>\n",
            "</tr>, <tr class=\"trOdd\">\n",
            "<td>SMA Negeri 46</td>\n",
            "<td class=\"colEvn\">8.300</td>\n",
            "<td>9.463</td>\n",
            "<td class=\"colEvn\">8.59</td>\n",
            "<td align=\"center\"> <a href=\"javascript:\" onclick=\"window.location='/2012/jakarta/arsip/13031000059.html?_='+(new Date).getTime()\"><img alt=\"Statistik\" border=\"0\" hspace=\"5\" src=\"/2012/images/cont/stat/stat.gif\" title=\"Lihat Statistik Sekolah\"/></a>\n",
            "<!--      <a href=\"javascript:\" onClick=\"window.location='/2012/jakarta/seleksi/130310000590/?_='+(new Date).getTime()\"><img src=\"/2012/images/cont/stat/hasil.gif\" title=\"Lihat Hasil Seleksi\" alt=\"Seleksi\" border=\"0\" hspace=\"5\"></a> -->\n",
            "</td>\n",
            "</tr>, <tr class=\"trEvn\">\n",
            "<td>SMA Negeri 47</td>\n",
            "<td class=\"colEvn\">9.063</td>\n",
            "<td>9.725</td>\n",
            "<td class=\"colEvn\">9.28</td>\n",
            "<td align=\"center\"> <a href=\"javascript:\" onclick=\"window.location='/2012/jakarta/arsip/13031000060.html?_='+(new Date).getTime()\"><img alt=\"Statistik\" border=\"0\" hspace=\"5\" src=\"/2012/images/cont/stat/stat.gif\" title=\"Lihat Statistik Sekolah\"/></a>\n",
            "<!--      <a href=\"javascript:\" onClick=\"window.location='/2012/jakarta/seleksi/130310000600/?_='+(new Date).getTime()\"><img src=\"/2012/images/cont/stat/hasil.gif\" title=\"Lihat Hasil Seleksi\" alt=\"Seleksi\" border=\"0\" hspace=\"5\"></a> -->\n",
            "</td>\n",
            "</tr>, <tr class=\"trOdd\">\n",
            "<td>SMA Negeri 48</td>\n",
            "<td class=\"colEvn\">8.975</td>\n",
            "<td>9.688</td>\n",
            "<td class=\"colEvn\">9.16</td>\n",
            "<td align=\"center\"> <a href=\"javascript:\" onclick=\"window.location='/2012/jakarta/arsip/13031000095.html?_='+(new Date).getTime()\"><img alt=\"Statistik\" border=\"0\" hspace=\"5\" src=\"/2012/images/cont/stat/stat.gif\" title=\"Lihat Statistik Sekolah\"/></a>\n",
            "<!--      <a href=\"javascript:\" onClick=\"window.location='/2012/jakarta/seleksi/130310000950/?_='+(new Date).getTime()\"><img src=\"/2012/images/cont/stat/hasil.gif\" title=\"Lihat Hasil Seleksi\" alt=\"Seleksi\" border=\"0\" hspace=\"5\"></a> -->\n",
            "</td>\n",
            "</tr>, <tr class=\"trEvn\">\n",
            "<td>SMA Negeri 49</td>\n",
            "<td class=\"colEvn\">8.613</td>\n",
            "<td>9.588</td>\n",
            "<td class=\"colEvn\">8.85</td>\n",
            "<td align=\"center\"> <a href=\"javascript:\" onclick=\"window.location='/2012/jakarta/arsip/13031000061.html?_='+(new Date).getTime()\"><img alt=\"Statistik\" border=\"0\" hspace=\"5\" src=\"/2012/images/cont/stat/stat.gif\" title=\"Lihat Statistik Sekolah\"/></a>\n",
            "<!--      <a href=\"javascript:\" onClick=\"window.location='/2012/jakarta/seleksi/130310000610/?_='+(new Date).getTime()\"><img src=\"/2012/images/cont/stat/hasil.gif\" title=\"Lihat Hasil Seleksi\" alt=\"Seleksi\" border=\"0\" hspace=\"5\"></a> -->\n",
            "</td>\n",
            "</tr>, <tr class=\"trOdd\">\n",
            "<td>SMA Negeri 50</td>\n",
            "<td class=\"colEvn\">7.488</td>\n",
            "<td>9.200</td>\n",
            "<td class=\"colEvn\">7.85</td>\n",
            "<td align=\"center\"> <a href=\"javascript:\" onclick=\"window.location='/2012/jakarta/arsip/13031000096.html?_='+(new Date).getTime()\"><img alt=\"Statistik\" border=\"0\" hspace=\"5\" src=\"/2012/images/cont/stat/stat.gif\" title=\"Lihat Statistik Sekolah\"/></a>\n",
            "<!--      <a href=\"javascript:\" onClick=\"window.location='/2012/jakarta/seleksi/130310000960/?_='+(new Date).getTime()\"><img src=\"/2012/images/cont/stat/hasil.gif\" title=\"Lihat Hasil Seleksi\" alt=\"Seleksi\" border=\"0\" hspace=\"5\"></a> -->\n",
            "</td>\n",
            "</tr>, <tr class=\"trEvn\">\n",
            "<td>SMA Negeri 51</td>\n",
            "<td class=\"colEvn\">7.275</td>\n",
            "<td>9.413</td>\n",
            "<td class=\"colEvn\">7.64</td>\n",
            "<td align=\"center\"> <a href=\"javascript:\" onclick=\"window.location='/2012/jakarta/arsip/13031000097.html?_='+(new Date).getTime()\"><img alt=\"Statistik\" border=\"0\" hspace=\"5\" src=\"/2012/images/cont/stat/stat.gif\" title=\"Lihat Statistik Sekolah\"/></a>\n",
            "<!--      <a href=\"javascript:\" onClick=\"window.location='/2012/jakarta/seleksi/130310000970/?_='+(new Date).getTime()\"><img src=\"/2012/images/cont/stat/hasil.gif\" title=\"Lihat Hasil Seleksi\" alt=\"Seleksi\" border=\"0\" hspace=\"5\"></a> -->\n",
            "</td>\n",
            "</tr>, <tr class=\"trOdd\">\n",
            "<td>SMA Negeri 52</td>\n",
            "<td class=\"colEvn\">6.600</td>\n",
            "<td>9.638</td>\n",
            "<td class=\"colEvn\">7.6</td>\n",
            "<td align=\"center\"> <a href=\"javascript:\" onclick=\"window.location='/2012/jakarta/arsip/13031000024.html?_='+(new Date).getTime()\"><img alt=\"Statistik\" border=\"0\" hspace=\"5\" src=\"/2012/images/cont/stat/stat.gif\" title=\"Lihat Statistik Sekolah\"/></a>\n",
            "<!--      <a href=\"javascript:\" onClick=\"window.location='/2012/jakarta/seleksi/130310000240/?_='+(new Date).getTime()\"><img src=\"/2012/images/cont/stat/hasil.gif\" title=\"Lihat Hasil Seleksi\" alt=\"Seleksi\" border=\"0\" hspace=\"5\"></a> -->\n",
            "</td>\n",
            "</tr>, <tr class=\"trEvn\">\n",
            "<td>SMA Negeri 53</td>\n",
            "<td class=\"colEvn\">8.025</td>\n",
            "<td>9.063</td>\n",
            "<td class=\"colEvn\">8.32</td>\n",
            "<td align=\"center\"> <a href=\"javascript:\" onclick=\"window.location='/2012/jakarta/arsip/13031000098.html?_='+(new Date).getTime()\"><img alt=\"Statistik\" border=\"0\" hspace=\"5\" src=\"/2012/images/cont/stat/stat.gif\" title=\"Lihat Statistik Sekolah\"/></a>\n",
            "<!--      <a href=\"javascript:\" onClick=\"window.location='/2012/jakarta/seleksi/130310000980/?_='+(new Date).getTime()\"><img src=\"/2012/images/cont/stat/hasil.gif\" title=\"Lihat Hasil Seleksi\" alt=\"Seleksi\" border=\"0\" hspace=\"5\"></a> -->\n",
            "</td>\n",
            "</tr>, <tr class=\"trOdd\">\n",
            "<td>SMA Negeri 54</td>\n",
            "<td class=\"colEvn\">8.625</td>\n",
            "<td>9.613</td>\n",
            "<td class=\"colEvn\">8.85</td>\n",
            "<td align=\"center\"> <a href=\"javascript:\" onclick=\"window.location='/2012/jakarta/arsip/13031000099.html?_='+(new Date).getTime()\"><img alt=\"Statistik\" border=\"0\" hspace=\"5\" src=\"/2012/images/cont/stat/stat.gif\" title=\"Lihat Statistik Sekolah\"/></a>\n",
            "<!--      <a href=\"javascript:\" onClick=\"window.location='/2012/jakarta/seleksi/130310000990/?_='+(new Date).getTime()\"><img src=\"/2012/images/cont/stat/hasil.gif\" title=\"Lihat Hasil Seleksi\" alt=\"Seleksi\" border=\"0\" hspace=\"5\"></a> -->\n",
            "</td>\n",
            "</tr>, <tr class=\"trEvn\">\n",
            "<td>SMA Negeri 55</td>\n",
            "<td class=\"colEvn\">8.375</td>\n",
            "<td>9.338</td>\n",
            "<td class=\"colEvn\">8.65</td>\n",
            "<td align=\"center\"> <a href=\"javascript:\" onclick=\"window.location='/2012/jakarta/arsip/13031000062.html?_='+(new Date).getTime()\"><img alt=\"Statistik\" border=\"0\" hspace=\"5\" src=\"/2012/images/cont/stat/stat.gif\" title=\"Lihat Statistik Sekolah\"/></a>\n",
            "<!--      <a href=\"javascript:\" onClick=\"window.location='/2012/jakarta/seleksi/130310000620/?_='+(new Date).getTime()\"><img src=\"/2012/images/cont/stat/hasil.gif\" title=\"Lihat Hasil Seleksi\" alt=\"Seleksi\" border=\"0\" hspace=\"5\"></a> -->\n",
            "</td>\n",
            "</tr>, <tr class=\"trOdd\">\n",
            "<td>SMA Negeri 56</td>\n",
            "<td class=\"colEvn\">6.725</td>\n",
            "<td>9.500</td>\n",
            "<td class=\"colEvn\">7.14</td>\n",
            "<td align=\"center\"> <a href=\"javascript:\" onclick=\"window.location='/2012/jakarta/arsip/13031000039.html?_='+(new Date).getTime()\"><img alt=\"Statistik\" border=\"0\" hspace=\"5\" src=\"/2012/images/cont/stat/stat.gif\" title=\"Lihat Statistik Sekolah\"/></a>\n",
            "<!--      <a href=\"javascript:\" onClick=\"window.location='/2012/jakarta/seleksi/130310000390/?_='+(new Date).getTime()\"><img src=\"/2012/images/cont/stat/hasil.gif\" title=\"Lihat Hasil Seleksi\" alt=\"Seleksi\" border=\"0\" hspace=\"5\"></a> -->\n",
            "</td>\n",
            "</tr>, <tr class=\"trEvn\">\n",
            "<td>SMA Negeri 57</td>\n",
            "<td class=\"colEvn\">7.250</td>\n",
            "<td>8.950</td>\n",
            "<td class=\"colEvn\">7.59</td>\n",
            "<td align=\"center\"> <a href=\"javascript:\" onclick=\"window.location='/2012/jakarta/arsip/13031000040.html?_='+(new Date).getTime()\"><img alt=\"Statistik\" border=\"0\" hspace=\"5\" src=\"/2012/images/cont/stat/stat.gif\" title=\"Lihat Statistik Sekolah\"/></a>\n",
            "<!--      <a href=\"javascript:\" onClick=\"window.location='/2012/jakarta/seleksi/130310000400/?_='+(new Date).getTime()\"><img src=\"/2012/images/cont/stat/hasil.gif\" title=\"Lihat Hasil Seleksi\" alt=\"Seleksi\" border=\"0\" hspace=\"5\"></a> -->\n",
            "</td>\n",
            "</tr>, <tr class=\"trOdd\">\n",
            "<td>SMA Negeri 58</td>\n",
            "<td class=\"colEvn\">8.138</td>\n",
            "<td>9.325</td>\n",
            "<td class=\"colEvn\">8.42</td>\n",
            "<td align=\"center\"> <a href=\"javascript:\" onclick=\"window.location='/2012/jakarta/arsip/13031000100.html?_='+(new Date).getTime()\"><img alt=\"Statistik\" border=\"0\" hspace=\"5\" src=\"/2012/images/cont/stat/stat.gif\" title=\"Lihat Statistik Sekolah\"/></a>\n",
            "<!--      <a href=\"javascript:\" onClick=\"window.location='/2012/jakarta/seleksi/130310001000/?_='+(new Date).getTime()\"><img src=\"/2012/images/cont/stat/hasil.gif\" title=\"Lihat Hasil Seleksi\" alt=\"Seleksi\" border=\"0\" hspace=\"5\"></a> -->\n",
            "</td>\n",
            "</tr>, <tr class=\"trEvn\">\n",
            "<td>SMA Negeri 59</td>\n",
            "<td class=\"colEvn\">7.850</td>\n",
            "<td>9.425</td>\n",
            "<td class=\"colEvn\">8.15</td>\n",
            "<td align=\"center\"> <a href=\"javascript:\" onclick=\"window.location='/2012/jakarta/arsip/13031000101.html?_='+(new Date).getTime()\"><img alt=\"Statistik\" border=\"0\" hspace=\"5\" src=\"/2012/images/cont/stat/stat.gif\" title=\"Lihat Statistik Sekolah\"/></a>\n",
            "<!--      <a href=\"javascript:\" onClick=\"window.location='/2012/jakarta/seleksi/130310001010/?_='+(new Date).getTime()\"><img src=\"/2012/images/cont/stat/hasil.gif\" title=\"Lihat Hasil Seleksi\" alt=\"Seleksi\" border=\"0\" hspace=\"5\"></a> -->\n",
            "</td>\n",
            "</tr>, <tr class=\"trOdd\">\n",
            "<td>SMA Negeri 60</td>\n",
            "<td class=\"colEvn\">8.188</td>\n",
            "<td>9.225</td>\n",
            "<td class=\"colEvn\">8.44</td>\n",
            "<td align=\"center\"> <a href=\"javascript:\" onclick=\"window.location='/2012/jakarta/arsip/13031000064.html?_='+(new Date).getTime()\"><img alt=\"Statistik\" border=\"0\" hspace=\"5\" src=\"/2012/images/cont/stat/stat.gif\" title=\"Lihat Statistik Sekolah\"/></a>\n",
            "<!--      <a href=\"javascript:\" onClick=\"window.location='/2012/jakarta/seleksi/130310000640/?_='+(new Date).getTime()\"><img src=\"/2012/images/cont/stat/hasil.gif\" title=\"Lihat Hasil Seleksi\" alt=\"Seleksi\" border=\"0\" hspace=\"5\"></a> -->\n",
            "</td>\n",
            "</tr>, <tr class=\"trEvn\">\n",
            "<td>SMA Negeri 62</td>\n",
            "<td class=\"colEvn\">8.475</td>\n",
            "<td>9.250</td>\n",
            "<td class=\"colEvn\">8.71</td>\n",
            "<td align=\"center\"> <a href=\"javascript:\" onclick=\"window.location='/2012/jakarta/arsip/13031000103.html?_='+(new Date).getTime()\"><img alt=\"Statistik\" border=\"0\" hspace=\"5\" src=\"/2012/images/cont/stat/stat.gif\" title=\"Lihat Statistik Sekolah\"/></a>\n",
            "<!--      <a href=\"javascript:\" onClick=\"window.location='/2012/jakarta/seleksi/130310001030/?_='+(new Date).getTime()\"><img src=\"/2012/images/cont/stat/hasil.gif\" title=\"Lihat Hasil Seleksi\" alt=\"Seleksi\" border=\"0\" hspace=\"5\"></a> -->\n",
            "</td>\n",
            "</tr>, <tr class=\"trOdd\">\n",
            "<td>SMA Negeri 63</td>\n",
            "<td class=\"colEvn\">8.313</td>\n",
            "<td>9.650</td>\n",
            "<td class=\"colEvn\">8.58</td>\n",
            "<td align=\"center\"> <a href=\"javascript:\" onclick=\"window.location='/2012/jakarta/arsip/13031000065.html?_='+(new Date).getTime()\"><img alt=\"Statistik\" border=\"0\" hspace=\"5\" src=\"/2012/images/cont/stat/stat.gif\" title=\"Lihat Statistik Sekolah\"/></a>\n",
            "<!--      <a href=\"javascript:\" onClick=\"window.location='/2012/jakarta/seleksi/130310000650/?_='+(new Date).getTime()\"><img src=\"/2012/images/cont/stat/hasil.gif\" title=\"Lihat Hasil Seleksi\" alt=\"Seleksi\" border=\"0\" hspace=\"5\"></a> -->\n",
            "</td>\n",
            "</tr>, <tr class=\"trEvn\">\n",
            "<td>SMA Negeri 64</td>\n",
            "<td class=\"colEvn\">7.500</td>\n",
            "<td>9.100</td>\n",
            "<td class=\"colEvn\">7.79</td>\n",
            "<td align=\"center\"> <a href=\"javascript:\" onclick=\"window.location='/2012/jakarta/arsip/13031000104.html?_='+(new Date).getTime()\"><img alt=\"Statistik\" border=\"0\" hspace=\"5\" src=\"/2012/images/cont/stat/stat.gif\" title=\"Lihat Statistik Sekolah\"/></a>\n",
            "<!--      <a href=\"javascript:\" onClick=\"window.location='/2012/jakarta/seleksi/130310001040/?_='+(new Date).getTime()\"><img src=\"/2012/images/cont/stat/hasil.gif\" title=\"Lihat Hasil Seleksi\" alt=\"Seleksi\" border=\"0\" hspace=\"5\"></a> -->\n",
            "</td>\n",
            "</tr>, <tr class=\"trOdd\">\n",
            "<td>SMA Negeri 65</td>\n",
            "<td class=\"colEvn\">8.288</td>\n",
            "<td>9.400</td>\n",
            "<td class=\"colEvn\">8.58</td>\n",
            "<td align=\"center\"> <a href=\"javascript:\" onclick=\"window.location='/2012/jakarta/arsip/13031000041.html?_='+(new Date).getTime()\"><img alt=\"Statistik\" border=\"0\" hspace=\"5\" src=\"/2012/images/cont/stat/stat.gif\" title=\"Lihat Statistik Sekolah\"/></a>\n",
            "<!--      <a href=\"javascript:\" onClick=\"window.location='/2012/jakarta/seleksi/130310000410/?_='+(new Date).getTime()\"><img src=\"/2012/images/cont/stat/hasil.gif\" title=\"Lihat Hasil Seleksi\" alt=\"Seleksi\" border=\"0\" hspace=\"5\"></a> -->\n",
            "</td>\n",
            "</tr>, <tr class=\"trEvn\">\n",
            "<td>SMA Negeri 66</td>\n",
            "<td class=\"colEvn\">8.538</td>\n",
            "<td>9.450</td>\n",
            "<td class=\"colEvn\">8.81</td>\n",
            "<td align=\"center\"> <a href=\"javascript:\" onclick=\"window.location='/2012/jakarta/arsip/13031000066.html?_='+(new Date).getTime()\"><img alt=\"Statistik\" border=\"0\" hspace=\"5\" src=\"/2012/images/cont/stat/stat.gif\" title=\"Lihat Statistik Sekolah\"/></a>\n",
            "<!--      <a href=\"javascript:\" onClick=\"window.location='/2012/jakarta/seleksi/130310000660/?_='+(new Date).getTime()\"><img src=\"/2012/images/cont/stat/hasil.gif\" title=\"Lihat Hasil Seleksi\" alt=\"Seleksi\" border=\"0\" hspace=\"5\"></a> -->\n",
            "</td>\n",
            "</tr>, <tr class=\"trOdd\">\n",
            "<td>SMA Negeri 67</td>\n",
            "<td class=\"colEvn\">8.438</td>\n",
            "<td>9.600</td>\n",
            "<td class=\"colEvn\">8.72</td>\n",
            "<td align=\"center\"> <a href=\"javascript:\" onclick=\"window.location='/2012/jakarta/arsip/13031000105.html?_='+(new Date).getTime()\"><img alt=\"Statistik\" border=\"0\" hspace=\"5\" src=\"/2012/images/cont/stat/stat.gif\" title=\"Lihat Statistik Sekolah\"/></a>\n",
            "<!--      <a href=\"javascript:\" onClick=\"window.location='/2012/jakarta/seleksi/130310001050/?_='+(new Date).getTime()\"><img src=\"/2012/images/cont/stat/hasil.gif\" title=\"Lihat Hasil Seleksi\" alt=\"Seleksi\" border=\"0\" hspace=\"5\"></a> -->\n",
            "</td>\n",
            "</tr>, <tr class=\"trEvn\">\n",
            "<td>SMA Negeri 71</td>\n",
            "<td class=\"colEvn\">9.025</td>\n",
            "<td>9.725</td>\n",
            "<td class=\"colEvn\">9.24</td>\n",
            "<td align=\"center\"> <a href=\"javascript:\" onclick=\"window.location='/2012/jakarta/arsip/13031000106.html?_='+(new Date).getTime()\"><img alt=\"Statistik\" border=\"0\" hspace=\"5\" src=\"/2012/images/cont/stat/stat.gif\" title=\"Lihat Statistik Sekolah\"/></a>\n",
            "<!--      <a href=\"javascript:\" onClick=\"window.location='/2012/jakarta/seleksi/130310001060/?_='+(new Date).getTime()\"><img src=\"/2012/images/cont/stat/hasil.gif\" title=\"Lihat Hasil Seleksi\" alt=\"Seleksi\" border=\"0\" hspace=\"5\"></a> -->\n",
            "</td>\n",
            "</tr>, <tr class=\"trOdd\">\n",
            "<td>SMA Negeri 72</td>\n",
            "<td class=\"colEvn\">5.800</td>\n",
            "<td>9.288</td>\n",
            "<td class=\"colEvn\">6.78</td>\n",
            "<td align=\"center\"> <a href=\"javascript:\" onclick=\"window.location='/2012/jakarta/arsip/13031000025.html?_='+(new Date).getTime()\"><img alt=\"Statistik\" border=\"0\" hspace=\"5\" src=\"/2012/images/cont/stat/stat.gif\" title=\"Lihat Statistik Sekolah\"/></a>\n",
            "<!--      <a href=\"javascript:\" onClick=\"window.location='/2012/jakarta/seleksi/130310000250/?_='+(new Date).getTime()\"><img src=\"/2012/images/cont/stat/hasil.gif\" title=\"Lihat Hasil Seleksi\" alt=\"Seleksi\" border=\"0\" hspace=\"5\"></a> -->\n",
            "</td>\n",
            "</tr>, <tr class=\"trEvn\">\n",
            "<td>SMA Negeri 73</td>\n",
            "<td class=\"colEvn\">6.075</td>\n",
            "<td>9.075</td>\n",
            "<td class=\"colEvn\">6.81</td>\n",
            "<td align=\"center\"> <a href=\"javascript:\" onclick=\"window.location='/2012/jakarta/arsip/13031000026.html?_='+(new Date).getTime()\"><img alt=\"Statistik\" border=\"0\" hspace=\"5\" src=\"/2012/images/cont/stat/stat.gif\" title=\"Lihat Statistik Sekolah\"/></a>\n",
            "<!--      <a href=\"javascript:\" onClick=\"window.location='/2012/jakarta/seleksi/130310000260/?_='+(new Date).getTime()\"><img src=\"/2012/images/cont/stat/hasil.gif\" title=\"Lihat Hasil Seleksi\" alt=\"Seleksi\" border=\"0\" hspace=\"5\"></a> -->\n",
            "</td>\n",
            "</tr>, <tr class=\"trOdd\">\n",
            "<td>SMA Negeri 74</td>\n",
            "<td class=\"colEvn\">7.838</td>\n",
            "<td>9.400</td>\n",
            "<td class=\"colEvn\">8.21</td>\n",
            "<td align=\"center\"> <a href=\"javascript:\" onclick=\"window.location='/2012/jakarta/arsip/13031000068.html?_='+(new Date).getTime()\"><img alt=\"Statistik\" border=\"0\" hspace=\"5\" src=\"/2012/images/cont/stat/stat.gif\" title=\"Lihat Statistik Sekolah\"/></a>\n",
            "<!--      <a href=\"javascript:\" onClick=\"window.location='/2012/jakarta/seleksi/130310000680/?_='+(new Date).getTime()\"><img src=\"/2012/images/cont/stat/hasil.gif\" title=\"Lihat Hasil Seleksi\" alt=\"Seleksi\" border=\"0\" hspace=\"5\"></a> -->\n",
            "</td>\n",
            "</tr>, <tr class=\"trEvn\">\n",
            "<td>SMA Negeri 75</td>\n",
            "<td class=\"colEvn\">7.050</td>\n",
            "<td>9.438</td>\n",
            "<td class=\"colEvn\">7.87</td>\n",
            "<td align=\"center\"> <a href=\"javascript:\" onclick=\"window.location='/2012/jakarta/arsip/13031000027.html?_='+(new Date).getTime()\"><img alt=\"Statistik\" border=\"0\" hspace=\"5\" src=\"/2012/images/cont/stat/stat.gif\" title=\"Lihat Statistik Sekolah\"/></a>\n",
            "<!--      <a href=\"javascript:\" onClick=\"window.location='/2012/jakarta/seleksi/130310000270/?_='+(new Date).getTime()\"><img src=\"/2012/images/cont/stat/hasil.gif\" title=\"Lihat Hasil Seleksi\" alt=\"Seleksi\" border=\"0\" hspace=\"5\"></a> -->\n",
            "</td>\n",
            "</tr>, <tr class=\"trOdd\">\n",
            "<td>SMA Negeri 76</td>\n",
            "<td class=\"colEvn\">6.225</td>\n",
            "<td>8.563</td>\n",
            "<td class=\"colEvn\">6.8</td>\n",
            "<td align=\"center\"> <a href=\"javascript:\" onclick=\"window.location='/2012/jakarta/arsip/13031000107.html?_='+(new Date).getTime()\"><img alt=\"Statistik\" border=\"0\" hspace=\"5\" src=\"/2012/images/cont/stat/stat.gif\" title=\"Lihat Statistik Sekolah\"/></a>\n",
            "<!--      <a href=\"javascript:\" onClick=\"window.location='/2012/jakarta/seleksi/130310001070/?_='+(new Date).getTime()\"><img src=\"/2012/images/cont/stat/hasil.gif\" title=\"Lihat Hasil Seleksi\" alt=\"Seleksi\" border=\"0\" hspace=\"5\"></a> -->\n",
            "</td>\n",
            "</tr>, <tr class=\"trEvn\">\n",
            "<td>SMA Negeri 77</td>\n",
            "<td class=\"colEvn\">8.763</td>\n",
            "<td>9.638</td>\n",
            "<td class=\"colEvn\">9.03</td>\n",
            "<td align=\"center\"> <a href=\"javascript:\" onclick=\"window.location='/2012/jakarta/arsip/13031000013.html?_='+(new Date).getTime()\"><img alt=\"Statistik\" border=\"0\" hspace=\"5\" src=\"/2012/images/cont/stat/stat.gif\" title=\"Lihat Statistik Sekolah\"/></a>\n",
            "<!--      <a href=\"javascript:\" onClick=\"window.location='/2012/jakarta/seleksi/130310000130/?_='+(new Date).getTime()\"><img src=\"/2012/images/cont/stat/hasil.gif\" title=\"Lihat Hasil Seleksi\" alt=\"Seleksi\" border=\"0\" hspace=\"5\"></a> -->\n",
            "</td>\n",
            "</tr>, <tr class=\"trOdd\">\n",
            "<td>SMA Negeri 79</td>\n",
            "<td class=\"colEvn\">7.213</td>\n",
            "<td>9.138</td>\n",
            "<td class=\"colEvn\">7.63</td>\n",
            "<td align=\"center\"> <a href=\"javascript:\" onclick=\"window.location='/2012/jakarta/arsip/13031000069.html?_='+(new Date).getTime()\"><img alt=\"Statistik\" border=\"0\" hspace=\"5\" src=\"/2012/images/cont/stat/stat.gif\" title=\"Lihat Statistik Sekolah\"/></a>\n",
            "<!--      <a href=\"javascript:\" onClick=\"window.location='/2012/jakarta/seleksi/130310000690/?_='+(new Date).getTime()\"><img src=\"/2012/images/cont/stat/hasil.gif\" title=\"Lihat Hasil Seleksi\" alt=\"Seleksi\" border=\"0\" hspace=\"5\"></a> -->\n",
            "</td>\n",
            "</tr>, <tr class=\"trEvn\">\n",
            "<td>SMA Negeri 80</td>\n",
            "<td class=\"colEvn\">6.613</td>\n",
            "<td>9.188</td>\n",
            "<td class=\"colEvn\">7.49</td>\n",
            "<td align=\"center\"> <a href=\"javascript:\" onclick=\"window.location='/2012/jakarta/arsip/13031000028.html?_='+(new Date).getTime()\"><img alt=\"Statistik\" border=\"0\" hspace=\"5\" src=\"/2012/images/cont/stat/stat.gif\" title=\"Lihat Statistik Sekolah\"/></a>\n",
            "<!--      <a href=\"javascript:\" onClick=\"window.location='/2012/jakarta/seleksi/130310000280/?_='+(new Date).getTime()\"><img src=\"/2012/images/cont/stat/hasil.gif\" title=\"Lihat Hasil Seleksi\" alt=\"Seleksi\" border=\"0\" hspace=\"5\"></a> -->\n",
            "</td>\n",
            "</tr>, <tr class=\"trOdd\">\n",
            "<td>SMA Negeri 82</td>\n",
            "<td class=\"colEvn\">8.700</td>\n",
            "<td>9.513</td>\n",
            "<td class=\"colEvn\">8.87</td>\n",
            "<td align=\"center\"> <a href=\"javascript:\" onclick=\"window.location='/2012/jakarta/arsip/13031000071.html?_='+(new Date).getTime()\"><img alt=\"Statistik\" border=\"0\" hspace=\"5\" src=\"/2012/images/cont/stat/stat.gif\" title=\"Lihat Statistik Sekolah\"/></a>\n",
            "<!--      <a href=\"javascript:\" onClick=\"window.location='/2012/jakarta/seleksi/130310000710/?_='+(new Date).getTime()\"><img src=\"/2012/images/cont/stat/hasil.gif\" title=\"Lihat Hasil Seleksi\" alt=\"Seleksi\" border=\"0\" hspace=\"5\"></a> -->\n",
            "</td>\n",
            "</tr>, <tr class=\"trEvn\">\n",
            "<td>SMA Negeri 83</td>\n",
            "<td class=\"colEvn\">4.488</td>\n",
            "<td>8.138</td>\n",
            "<td class=\"colEvn\">5.77</td>\n",
            "<td align=\"center\"> <a href=\"javascript:\" onclick=\"window.location='/2012/jakarta/arsip/13031000029.html?_='+(new Date).getTime()\"><img alt=\"Statistik\" border=\"0\" hspace=\"5\" src=\"/2012/images/cont/stat/stat.gif\" title=\"Lihat Statistik Sekolah\"/></a>\n",
            "<!--      <a href=\"javascript:\" onClick=\"window.location='/2012/jakarta/seleksi/130310000290/?_='+(new Date).getTime()\"><img src=\"/2012/images/cont/stat/hasil.gif\" title=\"Lihat Hasil Seleksi\" alt=\"Seleksi\" border=\"0\" hspace=\"5\"></a> -->\n",
            "</td>\n",
            "</tr>, <tr class=\"trOdd\">\n",
            "<td>SMA Negeri 84</td>\n",
            "<td class=\"colEvn\">7.588</td>\n",
            "<td>9.375</td>\n",
            "<td class=\"colEvn\">8.01</td>\n",
            "<td align=\"center\"> <a href=\"javascript:\" onclick=\"window.location='/2012/jakarta/arsip/13031000043.html?_='+(new Date).getTime()\"><img alt=\"Statistik\" border=\"0\" hspace=\"5\" src=\"/2012/images/cont/stat/stat.gif\" title=\"Lihat Statistik Sekolah\"/></a>\n",
            "<!--      <a href=\"javascript:\" onClick=\"window.location='/2012/jakarta/seleksi/130310000430/?_='+(new Date).getTime()\"><img src=\"/2012/images/cont/stat/hasil.gif\" title=\"Lihat Hasil Seleksi\" alt=\"Seleksi\" border=\"0\" hspace=\"5\"></a> -->\n",
            "</td>\n",
            "</tr>, <tr class=\"trEvn\">\n",
            "<td>SMA Negeri 85</td>\n",
            "<td class=\"colEvn\">7.950</td>\n",
            "<td>9.563</td>\n",
            "<td class=\"colEvn\">8.25</td>\n",
            "<td align=\"center\"> <a href=\"javascript:\" onclick=\"window.location='/2012/jakarta/arsip/13031000044.html?_='+(new Date).getTime()\"><img alt=\"Statistik\" border=\"0\" hspace=\"5\" src=\"/2012/images/cont/stat/stat.gif\" title=\"Lihat Statistik Sekolah\"/></a>\n",
            "<!--      <a href=\"javascript:\" onClick=\"window.location='/2012/jakarta/seleksi/130310000440/?_='+(new Date).getTime()\"><img src=\"/2012/images/cont/stat/hasil.gif\" title=\"Lihat Hasil Seleksi\" alt=\"Seleksi\" border=\"0\" hspace=\"5\"></a> -->\n",
            "</td>\n",
            "</tr>, <tr class=\"trOdd\">\n",
            "<td>SMA Negeri 86</td>\n",
            "<td class=\"colEvn\">8.000</td>\n",
            "<td>9.575</td>\n",
            "<td class=\"colEvn\">8.3</td>\n",
            "<td align=\"center\"> <a href=\"javascript:\" onclick=\"window.location='/2012/jakarta/arsip/13031000072.html?_='+(new Date).getTime()\"><img alt=\"Statistik\" border=\"0\" hspace=\"5\" src=\"/2012/images/cont/stat/stat.gif\" title=\"Lihat Statistik Sekolah\"/></a>\n",
            "<!--      <a href=\"javascript:\" onClick=\"window.location='/2012/jakarta/seleksi/130310000720/?_='+(new Date).getTime()\"><img src=\"/2012/images/cont/stat/hasil.gif\" title=\"Lihat Hasil Seleksi\" alt=\"Seleksi\" border=\"0\" hspace=\"5\"></a> -->\n",
            "</td>\n",
            "</tr>, <tr class=\"trEvn\">\n",
            "<td>SMA Negeri 87</td>\n",
            "<td class=\"colEvn\">8.375</td>\n",
            "<td>9.463</td>\n",
            "<td class=\"colEvn\">8.66</td>\n",
            "<td align=\"center\"> <a href=\"javascript:\" onclick=\"window.location='/2012/jakarta/arsip/13031000073.html?_='+(new Date).getTime()\"><img alt=\"Statistik\" border=\"0\" hspace=\"5\" src=\"/2012/images/cont/stat/stat.gif\" title=\"Lihat Statistik Sekolah\"/></a>\n",
            "<!--      <a href=\"javascript:\" onClick=\"window.location='/2012/jakarta/seleksi/130310000730/?_='+(new Date).getTime()\"><img src=\"/2012/images/cont/stat/hasil.gif\" title=\"Lihat Hasil Seleksi\" alt=\"Seleksi\" border=\"0\" hspace=\"5\"></a> -->\n",
            "</td>\n",
            "</tr>, <tr class=\"trOdd\">\n",
            "<td>SMA Negeri 88</td>\n",
            "<td class=\"colEvn\">7.625</td>\n",
            "<td>9.300</td>\n",
            "<td class=\"colEvn\">8.02</td>\n",
            "<td align=\"center\"> <a href=\"javascript:\" onclick=\"window.location='/2012/jakarta/arsip/13031000109.html?_='+(new Date).getTime()\"><img alt=\"Statistik\" border=\"0\" hspace=\"5\" src=\"/2012/images/cont/stat/stat.gif\" title=\"Lihat Statistik Sekolah\"/></a>\n",
            "<!--      <a href=\"javascript:\" onClick=\"window.location='/2012/jakarta/seleksi/130310001090/?_='+(new Date).getTime()\"><img src=\"/2012/images/cont/stat/hasil.gif\" title=\"Lihat Hasil Seleksi\" alt=\"Seleksi\" border=\"0\" hspace=\"5\"></a> -->\n",
            "</td>\n",
            "</tr>, <tr class=\"trEvn\">\n",
            "<td>SMA Negeri 89</td>\n",
            "<td class=\"colEvn\">7.163</td>\n",
            "<td>9.413</td>\n",
            "<td class=\"colEvn\">7.94</td>\n",
            "<td align=\"center\"> <a href=\"javascript:\" onclick=\"window.location='/2012/jakarta/arsip/13031000110.html?_='+(new Date).getTime()\"><img alt=\"Statistik\" border=\"0\" hspace=\"5\" src=\"/2012/images/cont/stat/stat.gif\" title=\"Lihat Statistik Sekolah\"/></a>\n",
            "<!--      <a href=\"javascript:\" onClick=\"window.location='/2012/jakarta/seleksi/130310001100/?_='+(new Date).getTime()\"><img src=\"/2012/images/cont/stat/hasil.gif\" title=\"Lihat Hasil Seleksi\" alt=\"Seleksi\" border=\"0\" hspace=\"5\"></a> -->\n",
            "</td>\n",
            "</tr>, <tr class=\"trOdd\">\n",
            "<td>SMA Negeri 90</td>\n",
            "<td class=\"colEvn\">8.725</td>\n",
            "<td>9.475</td>\n",
            "<td class=\"colEvn\">8.97</td>\n",
            "<td align=\"center\"> <a href=\"javascript:\" onclick=\"window.location='/2012/jakarta/arsip/13031000074.html?_='+(new Date).getTime()\"><img alt=\"Statistik\" border=\"0\" hspace=\"5\" src=\"/2012/images/cont/stat/stat.gif\" title=\"Lihat Statistik Sekolah\"/></a>\n",
            "<!--      <a href=\"javascript:\" onClick=\"window.location='/2012/jakarta/seleksi/130310000740/?_='+(new Date).getTime()\"><img src=\"/2012/images/cont/stat/hasil.gif\" title=\"Lihat Hasil Seleksi\" alt=\"Seleksi\" border=\"0\" hspace=\"5\"></a> -->\n",
            "</td>\n",
            "</tr>, <tr class=\"trEvn\">\n",
            "<td>SMA Negeri 91</td>\n",
            "<td class=\"colEvn\">8.700</td>\n",
            "<td>9.625</td>\n",
            "<td class=\"colEvn\">8.92</td>\n",
            "<td align=\"center\"> <a href=\"javascript:\" onclick=\"window.location='/2012/jakarta/arsip/13031000112.html?_='+(new Date).getTime()\"><img alt=\"Statistik\" border=\"0\" hspace=\"5\" src=\"/2012/images/cont/stat/stat.gif\" title=\"Lihat Statistik Sekolah\"/></a>\n",
            "<!--      <a href=\"javascript:\" onClick=\"window.location='/2012/jakarta/seleksi/130310001120/?_='+(new Date).getTime()\"><img src=\"/2012/images/cont/stat/hasil.gif\" title=\"Lihat Hasil Seleksi\" alt=\"Seleksi\" border=\"0\" hspace=\"5\"></a> -->\n",
            "</td>\n",
            "</tr>, <tr class=\"trOdd\">\n",
            "<td>SMA Negeri 92</td>\n",
            "<td class=\"colEvn\">5.600</td>\n",
            "<td>8.263</td>\n",
            "<td class=\"colEvn\">6.41</td>\n",
            "<td align=\"center\"> <a href=\"javascript:\" onclick=\"window.location='/2012/jakarta/arsip/13031000030.html?_='+(new Date).getTime()\"><img alt=\"Statistik\" border=\"0\" hspace=\"5\" src=\"/2012/images/cont/stat/stat.gif\" title=\"Lihat Statistik Sekolah\"/></a>\n",
            "<!--      <a href=\"javascript:\" onClick=\"window.location='/2012/jakarta/seleksi/130310000300/?_='+(new Date).getTime()\"><img src=\"/2012/images/cont/stat/hasil.gif\" title=\"Lihat Hasil Seleksi\" alt=\"Seleksi\" border=\"0\" hspace=\"5\"></a> -->\n",
            "</td>\n",
            "</tr>, <tr class=\"trEvn\">\n",
            "<td>SMA Negeri 93</td>\n",
            "<td class=\"colEvn\">7.350</td>\n",
            "<td>9.125</td>\n",
            "<td class=\"colEvn\">7.66</td>\n",
            "<td align=\"center\"> <a href=\"javascript:\" onclick=\"window.location='/2012/jakarta/arsip/13031000113.html?_='+(new Date).getTime()\"><img alt=\"Statistik\" border=\"0\" hspace=\"5\" src=\"/2012/images/cont/stat/stat.gif\" title=\"Lihat Statistik Sekolah\"/></a>\n",
            "<!--      <a href=\"javascript:\" onClick=\"window.location='/2012/jakarta/seleksi/130310001130/?_='+(new Date).getTime()\"><img src=\"/2012/images/cont/stat/hasil.gif\" title=\"Lihat Hasil Seleksi\" alt=\"Seleksi\" border=\"0\" hspace=\"5\"></a> -->\n",
            "</td>\n",
            "</tr>, <tr class=\"trOdd\">\n",
            "<td>SMA Negeri 94</td>\n",
            "<td class=\"colEvn\">7.200</td>\n",
            "<td>9.175</td>\n",
            "<td class=\"colEvn\">7.64</td>\n",
            "<td align=\"center\"> <a href=\"javascript:\" onclick=\"window.location='/2012/jakarta/arsip/13031000045.html?_='+(new Date).getTime()\"><img alt=\"Statistik\" border=\"0\" hspace=\"5\" src=\"/2012/images/cont/stat/stat.gif\" title=\"Lihat Statistik Sekolah\"/></a>\n",
            "<!--      <a href=\"javascript:\" onClick=\"window.location='/2012/jakarta/seleksi/130310000450/?_='+(new Date).getTime()\"><img src=\"/2012/images/cont/stat/hasil.gif\" title=\"Lihat Hasil Seleksi\" alt=\"Seleksi\" border=\"0\" hspace=\"5\"></a> -->\n",
            "</td>\n",
            "</tr>, <tr class=\"trEvn\">\n",
            "<td>SMA Negeri 95</td>\n",
            "<td class=\"colEvn\">6.963</td>\n",
            "<td>9.200</td>\n",
            "<td class=\"colEvn\">7.34</td>\n",
            "<td align=\"center\"> <a href=\"javascript:\" onclick=\"window.location='/2012/jakarta/arsip/13031000046.html?_='+(new Date).getTime()\"><img alt=\"Statistik\" border=\"0\" hspace=\"5\" src=\"/2012/images/cont/stat/stat.gif\" title=\"Lihat Statistik Sekolah\"/></a>\n",
            "<!--      <a href=\"javascript:\" onClick=\"window.location='/2012/jakarta/seleksi/130310000460/?_='+(new Date).getTime()\"><img src=\"/2012/images/cont/stat/hasil.gif\" title=\"Lihat Hasil Seleksi\" alt=\"Seleksi\" border=\"0\" hspace=\"5\"></a> -->\n",
            "</td>\n",
            "</tr>, <tr class=\"trOdd\">\n",
            "<td>SMA Negeri 96</td>\n",
            "<td class=\"colEvn\">6.738</td>\n",
            "<td>8.725</td>\n",
            "<td class=\"colEvn\">7.25</td>\n",
            "<td align=\"center\"> <a href=\"javascript:\" onclick=\"window.location='/2012/jakarta/arsip/13031000047.html?_='+(new Date).getTime()\"><img alt=\"Statistik\" border=\"0\" hspace=\"5\" src=\"/2012/images/cont/stat/stat.gif\" title=\"Lihat Statistik Sekolah\"/></a>\n",
            "<!--      <a href=\"javascript:\" onClick=\"window.location='/2012/jakarta/seleksi/130310000470/?_='+(new Date).getTime()\"><img src=\"/2012/images/cont/stat/hasil.gif\" title=\"Lihat Hasil Seleksi\" alt=\"Seleksi\" border=\"0\" hspace=\"5\"></a> -->\n",
            "</td>\n",
            "</tr>, <tr class=\"trEvn\">\n",
            "<td>SMA Negeri 97</td>\n",
            "<td class=\"colEvn\">7.900</td>\n",
            "<td>9.463</td>\n",
            "<td class=\"colEvn\">8.19</td>\n",
            "<td align=\"center\"> <a href=\"javascript:\" onclick=\"window.location='/2012/jakarta/arsip/13031000075.html?_='+(new Date).getTime()\"><img alt=\"Statistik\" border=\"0\" hspace=\"5\" src=\"/2012/images/cont/stat/stat.gif\" title=\"Lihat Statistik Sekolah\"/></a>\n",
            "<!--      <a href=\"javascript:\" onClick=\"window.location='/2012/jakarta/seleksi/130310000750/?_='+(new Date).getTime()\"><img src=\"/2012/images/cont/stat/hasil.gif\" title=\"Lihat Hasil Seleksi\" alt=\"Seleksi\" border=\"0\" hspace=\"5\"></a> -->\n",
            "</td>\n",
            "</tr>, <tr class=\"trOdd\">\n",
            "<td>SMA Negeri 98</td>\n",
            "<td class=\"colEvn\">8.413</td>\n",
            "<td>9.388</td>\n",
            "<td class=\"colEvn\">8.7</td>\n",
            "<td align=\"center\"> <a href=\"javascript:\" onclick=\"window.location='/2012/jakarta/arsip/13031000114.html?_='+(new Date).getTime()\"><img alt=\"Statistik\" border=\"0\" hspace=\"5\" src=\"/2012/images/cont/stat/stat.gif\" title=\"Lihat Statistik Sekolah\"/></a>\n",
            "<!--      <a href=\"javascript:\" onClick=\"window.location='/2012/jakarta/seleksi/130310001140/?_='+(new Date).getTime()\"><img src=\"/2012/images/cont/stat/hasil.gif\" title=\"Lihat Hasil Seleksi\" alt=\"Seleksi\" border=\"0\" hspace=\"5\"></a> -->\n",
            "</td>\n",
            "</tr>, <tr class=\"trEvn\">\n",
            "<td>SMA Negeri 99</td>\n",
            "<td class=\"colEvn\">8.663</td>\n",
            "<td>9.525</td>\n",
            "<td class=\"colEvn\">8.89</td>\n",
            "<td align=\"center\"> <a href=\"javascript:\" onclick=\"window.location='/2012/jakarta/arsip/13031000115.html?_='+(new Date).getTime()\"><img alt=\"Statistik\" border=\"0\" hspace=\"5\" src=\"/2012/images/cont/stat/stat.gif\" title=\"Lihat Statistik Sekolah\"/></a>\n",
            "<!--      <a href=\"javascript:\" onClick=\"window.location='/2012/jakarta/seleksi/130310001150/?_='+(new Date).getTime()\"><img src=\"/2012/images/cont/stat/hasil.gif\" title=\"Lihat Hasil Seleksi\" alt=\"Seleksi\" border=\"0\" hspace=\"5\"></a> -->\n",
            "</td>\n",
            "</tr>, <tr class=\"trOdd\">\n",
            "<td>SMA Negeri 100</td>\n",
            "<td class=\"colEvn\">7.088</td>\n",
            "<td>8.800</td>\n",
            "<td class=\"colEvn\">7.45</td>\n",
            "<td align=\"center\"> <a href=\"javascript:\" onclick=\"window.location='/2012/jakarta/arsip/13031000077.html?_='+(new Date).getTime()\"><img alt=\"Statistik\" border=\"0\" hspace=\"5\" src=\"/2012/images/cont/stat/stat.gif\" title=\"Lihat Statistik Sekolah\"/></a>\n",
            "<!--      <a href=\"javascript:\" onClick=\"window.location='/2012/jakarta/seleksi/130310000770/?_='+(new Date).getTime()\"><img src=\"/2012/images/cont/stat/hasil.gif\" title=\"Lihat Hasil Seleksi\" alt=\"Seleksi\" border=\"0\" hspace=\"5\"></a> -->\n",
            "</td>\n",
            "</tr>, <tr class=\"trEvn\">\n",
            "<td>SMA Negeri 101</td>\n",
            "<td class=\"colEvn\">7.513</td>\n",
            "<td>9.125</td>\n",
            "<td class=\"colEvn\">7.83</td>\n",
            "<td align=\"center\"> <a href=\"javascript:\" onclick=\"window.location='/2012/jakarta/arsip/13031000031.html?_='+(new Date).getTime()\"><img alt=\"Statistik\" border=\"0\" hspace=\"5\" src=\"/2012/images/cont/stat/stat.gif\" title=\"Lihat Statistik Sekolah\"/></a>\n",
            "<!--      <a href=\"javascript:\" onClick=\"window.location='/2012/jakarta/seleksi/130310000310/?_='+(new Date).getTime()\"><img src=\"/2012/images/cont/stat/hasil.gif\" title=\"Lihat Hasil Seleksi\" alt=\"Seleksi\" border=\"0\" hspace=\"5\"></a> -->\n",
            "</td>\n",
            "</tr>, <tr class=\"trOdd\">\n",
            "<td>SMA Negeri 102</td>\n",
            "<td class=\"colEvn\">5.263</td>\n",
            "<td>9.113</td>\n",
            "<td class=\"colEvn\">6.46</td>\n",
            "<td align=\"center\"> <a href=\"javascript:\" onclick=\"window.location='/2012/jakarta/arsip/13031000078.html?_='+(new Date).getTime()\"><img alt=\"Statistik\" border=\"0\" hspace=\"5\" src=\"/2012/images/cont/stat/stat.gif\" title=\"Lihat Statistik Sekolah\"/></a>\n",
            "<!--      <a href=\"javascript:\" onClick=\"window.location='/2012/jakarta/seleksi/130310000780/?_='+(new Date).getTime()\"><img src=\"/2012/images/cont/stat/hasil.gif\" title=\"Lihat Hasil Seleksi\" alt=\"Seleksi\" border=\"0\" hspace=\"5\"></a> -->\n",
            "</td>\n",
            "</tr>, <tr class=\"trEvn\">\n",
            "<td>SMA Negeri 103</td>\n",
            "<td class=\"colEvn\">8.438</td>\n",
            "<td>9.500</td>\n",
            "<td class=\"colEvn\">8.72</td>\n",
            "<td align=\"center\"> <a href=\"javascript:\" onclick=\"window.location='/2012/jakarta/arsip/13031000079.html?_='+(new Date).getTime()\"><img alt=\"Statistik\" border=\"0\" hspace=\"5\" src=\"/2012/images/cont/stat/stat.gif\" title=\"Lihat Statistik Sekolah\"/></a>\n",
            "<!--      <a href=\"javascript:\" onClick=\"window.location='/2012/jakarta/seleksi/130310000790/?_='+(new Date).getTime()\"><img src=\"/2012/images/cont/stat/hasil.gif\" title=\"Lihat Hasil Seleksi\" alt=\"Seleksi\" border=\"0\" hspace=\"5\"></a> -->\n",
            "</td>\n",
            "</tr>, <tr class=\"trOdd\">\n",
            "<td>SMA Negeri 104</td>\n",
            "<td class=\"colEvn\">7.725</td>\n",
            "<td>9.413</td>\n",
            "<td class=\"colEvn\">8.09</td>\n",
            "<td align=\"center\"> <a href=\"javascript:\" onclick=\"window.location='/2012/jakarta/arsip/13031000080.html?_='+(new Date).getTime()\"><img alt=\"Statistik\" border=\"0\" hspace=\"5\" src=\"/2012/images/cont/stat/stat.gif\" title=\"Lihat Statistik Sekolah\"/></a>\n",
            "<!--      <a href=\"javascript:\" onClick=\"window.location='/2012/jakarta/seleksi/130310000800/?_='+(new Date).getTime()\"><img src=\"/2012/images/cont/stat/hasil.gif\" title=\"Lihat Hasil Seleksi\" alt=\"Seleksi\" border=\"0\" hspace=\"5\"></a> -->\n",
            "</td>\n",
            "</tr>, <tr class=\"trEvn\">\n",
            "<td>SMA Negeri 105</td>\n",
            "<td class=\"colEvn\">7.888</td>\n",
            "<td>9.000</td>\n",
            "<td class=\"colEvn\">8.16</td>\n",
            "<td align=\"center\"> <a href=\"javascript:\" onclick=\"window.location='/2012/jakarta/arsip/13031000081.html?_='+(new Date).getTime()\"><img alt=\"Statistik\" border=\"0\" hspace=\"5\" src=\"/2012/images/cont/stat/stat.gif\" title=\"Lihat Statistik Sekolah\"/></a>\n",
            "<!--      <a href=\"javascript:\" onClick=\"window.location='/2012/jakarta/seleksi/130310000810/?_='+(new Date).getTime()\"><img src=\"/2012/images/cont/stat/hasil.gif\" title=\"Lihat Hasil Seleksi\" alt=\"Seleksi\" border=\"0\" hspace=\"5\"></a> -->\n",
            "</td>\n",
            "</tr>, <tr class=\"trOdd\">\n",
            "<td>SMA Negeri 106</td>\n",
            "<td class=\"colEvn\">7.738</td>\n",
            "<td>8.925</td>\n",
            "<td class=\"colEvn\">8.09</td>\n",
            "<td align=\"center\"> <a href=\"javascript:\" onclick=\"window.location='/2012/jakarta/arsip/13031000082.html?_='+(new Date).getTime()\"><img alt=\"Statistik\" border=\"0\" hspace=\"5\" src=\"/2012/images/cont/stat/stat.gif\" title=\"Lihat Statistik Sekolah\"/></a>\n",
            "<!--      <a href=\"javascript:\" onClick=\"window.location='/2012/jakarta/seleksi/130310000820/?_='+(new Date).getTime()\"><img src=\"/2012/images/cont/stat/hasil.gif\" title=\"Lihat Hasil Seleksi\" alt=\"Seleksi\" border=\"0\" hspace=\"5\"></a> -->\n",
            "</td>\n",
            "</tr>, <tr class=\"trEvn\">\n",
            "<td>SMA Negeri 107</td>\n",
            "<td class=\"colEvn\">6.725</td>\n",
            "<td>9.063</td>\n",
            "<td class=\"colEvn\">7.32</td>\n",
            "<td align=\"center\"> <a href=\"javascript:\" onclick=\"window.location='/2012/jakarta/arsip/13031000083.html?_='+(new Date).getTime()\"><img alt=\"Statistik\" border=\"0\" hspace=\"5\" src=\"/2012/images/cont/stat/stat.gif\" title=\"Lihat Statistik Sekolah\"/></a>\n",
            "<!--      <a href=\"javascript:\" onClick=\"window.location='/2012/jakarta/seleksi/130310000830/?_='+(new Date).getTime()\"><img src=\"/2012/images/cont/stat/hasil.gif\" title=\"Lihat Hasil Seleksi\" alt=\"Seleksi\" border=\"0\" hspace=\"5\"></a> -->\n",
            "</td>\n",
            "</tr>, <tr class=\"trOdd\">\n",
            "<td>SMA Negeri 108</td>\n",
            "<td class=\"colEvn\">7.638</td>\n",
            "<td>9.088</td>\n",
            "<td class=\"colEvn\">7.88</td>\n",
            "<td align=\"center\"> <a href=\"javascript:\" onclick=\"window.location='/2012/jakarta/arsip/13031000048.html?_='+(new Date).getTime()\"><img alt=\"Statistik\" border=\"0\" hspace=\"5\" src=\"/2012/images/cont/stat/stat.gif\" title=\"Lihat Statistik Sekolah\"/></a>\n",
            "<!--      <a href=\"javascript:\" onClick=\"window.location='/2012/jakarta/seleksi/130310000480/?_='+(new Date).getTime()\"><img src=\"/2012/images/cont/stat/hasil.gif\" title=\"Lihat Hasil Seleksi\" alt=\"Seleksi\" border=\"0\" hspace=\"5\"></a> -->\n",
            "</td>\n",
            "</tr>, <tr class=\"trEvn\">\n",
            "<td>SMA Negeri 109</td>\n",
            "<td class=\"colEvn\">8.088</td>\n",
            "<td>9.175</td>\n",
            "<td class=\"colEvn\">8.41</td>\n",
            "<td align=\"center\"> <a href=\"javascript:\" onclick=\"window.location='/2012/jakarta/arsip/13031000049.html?_='+(new Date).getTime()\"><img alt=\"Statistik\" border=\"0\" hspace=\"5\" src=\"/2012/images/cont/stat/stat.gif\" title=\"Lihat Statistik Sekolah\"/></a>\n",
            "<!--      <a href=\"javascript:\" onClick=\"window.location='/2012/jakarta/seleksi/130310000490/?_='+(new Date).getTime()\"><img src=\"/2012/images/cont/stat/hasil.gif\" title=\"Lihat Hasil Seleksi\" alt=\"Seleksi\" border=\"0\" hspace=\"5\"></a> -->\n",
            "</td>\n",
            "</tr>, <tr class=\"trOdd\">\n",
            "<td>SMA Negeri 110</td>\n",
            "<td class=\"colEvn\">4.550</td>\n",
            "<td>8.625</td>\n",
            "<td class=\"colEvn\">6</td>\n",
            "<td align=\"center\"> <a href=\"javascript:\" onclick=\"window.location='/2012/jakarta/arsip/13031000014.html?_='+(new Date).getTime()\"><img alt=\"Statistik\" border=\"0\" hspace=\"5\" src=\"/2012/images/cont/stat/stat.gif\" title=\"Lihat Statistik Sekolah\"/></a>\n",
            "<!--      <a href=\"javascript:\" onClick=\"window.location='/2012/jakarta/seleksi/130310000140/?_='+(new Date).getTime()\"><img src=\"/2012/images/cont/stat/hasil.gif\" title=\"Lihat Hasil Seleksi\" alt=\"Seleksi\" border=\"0\" hspace=\"5\"></a> -->\n",
            "</td>\n",
            "</tr>, <tr class=\"trEvn\">\n",
            "<td>SMA Negeri 111</td>\n",
            "<td class=\"colEvn\">5.875</td>\n",
            "<td>9.063</td>\n",
            "<td class=\"colEvn\">6.84</td>\n",
            "<td align=\"center\"> <a href=\"javascript:\" onclick=\"window.location='/2012/jakarta/arsip/13031000015.html?_='+(new Date).getTime()\"><img alt=\"Statistik\" border=\"0\" hspace=\"5\" src=\"/2012/images/cont/stat/stat.gif\" title=\"Lihat Statistik Sekolah\"/></a>\n",
            "<!--      <a href=\"javascript:\" onClick=\"window.location='/2012/jakarta/seleksi/130310000150/?_='+(new Date).getTime()\"><img src=\"/2012/images/cont/stat/hasil.gif\" title=\"Lihat Hasil Seleksi\" alt=\"Seleksi\" border=\"0\" hspace=\"5\"></a> -->\n",
            "</td>\n",
            "</tr>, <tr class=\"trOdd\">\n",
            "<td>SMA Negeri 112</td>\n",
            "<td class=\"colEvn\">8.475</td>\n",
            "<td>9.525</td>\n",
            "<td class=\"colEvn\">8.81</td>\n",
            "<td align=\"center\"> <a href=\"javascript:\" onclick=\"window.location='/2012/jakarta/arsip/13031000032.html?_='+(new Date).getTime()\"><img alt=\"Statistik\" border=\"0\" hspace=\"5\" src=\"/2012/images/cont/stat/stat.gif\" title=\"Lihat Statistik Sekolah\"/></a>\n",
            "<!--      <a href=\"javascript:\" onClick=\"window.location='/2012/jakarta/seleksi/130310000320/?_='+(new Date).getTime()\"><img src=\"/2012/images/cont/stat/hasil.gif\" title=\"Lihat Hasil Seleksi\" alt=\"Seleksi\" border=\"0\" hspace=\"5\"></a> -->\n",
            "</td>\n",
            "</tr>, <tr class=\"trEvn\">\n",
            "<td>SMA Negeri 113</td>\n",
            "<td class=\"colEvn\">7.550</td>\n",
            "<td>9.075</td>\n",
            "<td class=\"colEvn\">8.01</td>\n",
            "<td align=\"center\"> <a href=\"javascript:\" onclick=\"window.location='/2012/jakarta/arsip/13031000085.html?_='+(new Date).getTime()\"><img alt=\"Statistik\" border=\"0\" hspace=\"5\" src=\"/2012/images/cont/stat/stat.gif\" title=\"Lihat Statistik Sekolah\"/></a>\n",
            "<!--      <a href=\"javascript:\" onClick=\"window.location='/2012/jakarta/seleksi/130310000850/?_='+(new Date).getTime()\"><img src=\"/2012/images/cont/stat/hasil.gif\" title=\"Lihat Hasil Seleksi\" alt=\"Seleksi\" border=\"0\" hspace=\"5\"></a> -->\n",
            "</td>\n",
            "</tr>, <tr class=\"trOdd\">\n",
            "<td>SMA Negeri 114</td>\n",
            "<td class=\"colEvn\">4.225</td>\n",
            "<td>7.750</td>\n",
            "<td class=\"colEvn\">5.55</td>\n",
            "<td align=\"center\"> <a href=\"javascript:\" onclick=\"window.location='/2012/jakarta/arsip/13031000016.html?_='+(new Date).getTime()\"><img alt=\"Statistik\" border=\"0\" hspace=\"5\" src=\"/2012/images/cont/stat/stat.gif\" title=\"Lihat Statistik Sekolah\"/></a>\n",
            "<!--      <a href=\"javascript:\" onClick=\"window.location='/2012/jakarta/seleksi/130310000160/?_='+(new Date).getTime()\"><img src=\"/2012/images/cont/stat/hasil.gif\" title=\"Lihat Hasil Seleksi\" alt=\"Seleksi\" border=\"0\" hspace=\"5\"></a> -->\n",
            "</td>\n",
            "</tr>, <tr class=\"trEvn\">\n",
            "<td>SMA Negeri 115</td>\n",
            "<td class=\"colEvn\">4.675</td>\n",
            "<td>9.200</td>\n",
            "<td class=\"colEvn\">6.04</td>\n",
            "<td align=\"center\"> <a href=\"javascript:\" onclick=\"window.location='/2012/jakarta/arsip/13031000017.html?_='+(new Date).getTime()\"><img alt=\"Statistik\" border=\"0\" hspace=\"5\" src=\"/2012/images/cont/stat/stat.gif\" title=\"Lihat Statistik Sekolah\"/></a>\n",
            "<!--      <a href=\"javascript:\" onClick=\"window.location='/2012/jakarta/seleksi/130310000170/?_='+(new Date).getTime()\"><img src=\"/2012/images/cont/stat/hasil.gif\" title=\"Lihat Hasil Seleksi\" alt=\"Seleksi\" border=\"0\" hspace=\"5\"></a> -->\n",
            "</td>\n",
            "</tr>]\n"
          ],
          "name": "stdout"
        }
      ]
    },
    {
      "cell_type": "markdown",
      "metadata": {
        "id": "6A-0k39Lrqqk"
      },
      "source": [
        "Check The Table Results"
      ]
    },
    {
      "cell_type": "code",
      "metadata": {
        "colab": {
          "base_uri": "https://localhost:8080/"
        },
        "id": "SKPI5sA7ruxF",
        "outputId": "16911aef-01f6-4854-c262-3e4d1102f90d"
      },
      "source": [
        "results[0]"
      ],
      "execution_count": 29,
      "outputs": [
        {
          "output_type": "execute_result",
          "data": {
            "text/plain": [
              "<tr class=\"trOdd\">\n",
              "<td>SMA Negeri 1</td>\n",
              "<td class=\"colEvn\">8.200</td>\n",
              "<td>9.563</td>\n",
              "<td class=\"colEvn\">8.58</td>\n",
              "<td align=\"center\"> <a href=\"javascript:\" onclick=\"window.location='/2012/jakarta/arsip/13031000001.html?_='+(new Date).getTime()\"><img alt=\"Statistik\" border=\"0\" hspace=\"5\" src=\"/2012/images/cont/stat/stat.gif\" title=\"Lihat Statistik Sekolah\"/></a>\n",
              "<!--      <a href=\"javascript:\" onClick=\"window.location='/2012/jakarta/seleksi/130310000010/?_='+(new Date).getTime()\"><img src=\"/2012/images/cont/stat/hasil.gif\" title=\"Lihat Hasil Seleksi\" alt=\"Seleksi\" border=\"0\" hspace=\"5\"></a> -->\n",
              "</td>\n",
              "</tr>"
            ]
          },
          "metadata": {
            "tags": []
          },
          "execution_count": 29
        }
      ]
    },
    {
      "cell_type": "code",
      "metadata": {
        "colab": {
          "base_uri": "https://localhost:8080/"
        },
        "id": "Naxi-g4dsnr-",
        "outputId": "beb98acd-9136-444b-bc89-df9b4451d89c"
      },
      "source": [
        "results[-1]"
      ],
      "execution_count": 30,
      "outputs": [
        {
          "output_type": "execute_result",
          "data": {
            "text/plain": [
              "<tr class=\"trEvn\">\n",
              "<td>SMA Negeri 115</td>\n",
              "<td class=\"colEvn\">4.675</td>\n",
              "<td>9.200</td>\n",
              "<td class=\"colEvn\">6.04</td>\n",
              "<td align=\"center\"> <a href=\"javascript:\" onclick=\"window.location='/2012/jakarta/arsip/13031000017.html?_='+(new Date).getTime()\"><img alt=\"Statistik\" border=\"0\" hspace=\"5\" src=\"/2012/images/cont/stat/stat.gif\" title=\"Lihat Statistik Sekolah\"/></a>\n",
              "<!--      <a href=\"javascript:\" onClick=\"window.location='/2012/jakarta/seleksi/130310000170/?_='+(new Date).getTime()\"><img src=\"/2012/images/cont/stat/hasil.gif\" title=\"Lihat Hasil Seleksi\" alt=\"Seleksi\" border=\"0\" hspace=\"5\"></a> -->\n",
              "</td>\n",
              "</tr>"
            ]
          },
          "metadata": {
            "tags": []
          },
          "execution_count": 30
        }
      ]
    },
    {
      "cell_type": "markdown",
      "metadata": {
        "id": "_ZX9LSacIevj"
      },
      "source": [
        "Collecting Dataset"
      ]
    },
    {
      "cell_type": "code",
      "metadata": {
        "id": "iNIUL9yhIeTZ",
        "colab": {
          "base_uri": "https://localhost:8080/"
        },
        "outputId": "d4a51ae8-b1b7-43d3-97d0-2a7d7fcc09ae"
      },
      "source": [
        "first_result = results[0]\n",
        "first_result"
      ],
      "execution_count": 31,
      "outputs": [
        {
          "output_type": "execute_result",
          "data": {
            "text/plain": [
              "<tr class=\"trOdd\">\n",
              "<td>SMA Negeri 1</td>\n",
              "<td class=\"colEvn\">8.200</td>\n",
              "<td>9.563</td>\n",
              "<td class=\"colEvn\">8.58</td>\n",
              "<td align=\"center\"> <a href=\"javascript:\" onclick=\"window.location='/2012/jakarta/arsip/13031000001.html?_='+(new Date).getTime()\"><img alt=\"Statistik\" border=\"0\" hspace=\"5\" src=\"/2012/images/cont/stat/stat.gif\" title=\"Lihat Statistik Sekolah\"/></a>\n",
              "<!--      <a href=\"javascript:\" onClick=\"window.location='/2012/jakarta/seleksi/130310000010/?_='+(new Date).getTime()\"><img src=\"/2012/images/cont/stat/hasil.gif\" title=\"Lihat Hasil Seleksi\" alt=\"Seleksi\" border=\"0\" hspace=\"5\"></a> -->\n",
              "</td>\n",
              "</tr>"
            ]
          },
          "metadata": {
            "tags": []
          },
          "execution_count": 31
        }
      ]
    },
    {
      "cell_type": "markdown",
      "metadata": {
        "id": "jT0pKqFJKwQb"
      },
      "source": [
        "Find the attributes with 'td'"
      ]
    },
    {
      "cell_type": "code",
      "metadata": {
        "colab": {
          "base_uri": "https://localhost:8080/"
        },
        "id": "n3bdgwEUK3g1",
        "outputId": "d8358836-9deb-4edc-f494-6cb7ad664fd5"
      },
      "source": [
        "first_result.find_all('td')"
      ],
      "execution_count": 38,
      "outputs": [
        {
          "output_type": "execute_result",
          "data": {
            "text/plain": [
              "[<td>SMA Negeri 1</td>,\n",
              " <td class=\"colEvn\">8.200</td>,\n",
              " <td>9.563</td>,\n",
              " <td class=\"colEvn\">8.58</td>,\n",
              " <td align=\"center\"> <a href=\"javascript:\" onclick=\"window.location='/2012/jakarta/arsip/13031000001.html?_='+(new Date).getTime()\"><img alt=\"Statistik\" border=\"0\" hspace=\"5\" src=\"/2012/images/cont/stat/stat.gif\" title=\"Lihat Statistik Sekolah\"/></a>\n",
              " <!--      <a href=\"javascript:\" onClick=\"window.location='/2012/jakarta/seleksi/130310000010/?_='+(new Date).getTime()\"><img src=\"/2012/images/cont/stat/hasil.gif\" title=\"Lihat Hasil Seleksi\" alt=\"Seleksi\" border=\"0\" hspace=\"5\"></a> -->\n",
              " </td>]"
            ]
          },
          "metadata": {
            "tags": []
          },
          "execution_count": 38
        }
      ]
    },
    {
      "cell_type": "markdown",
      "metadata": {
        "id": "IKU6b50aKl5_"
      },
      "source": [
        "**Extracting The High School Name**"
      ]
    },
    {
      "cell_type": "code",
      "metadata": {
        "colab": {
          "base_uri": "https://localhost:8080/",
          "height": 35
        },
        "id": "J9PG5zfhJRuo",
        "outputId": "e6430db4-1654-4bab-8c8d-59480bb9ac7e"
      },
      "source": [
        "first_result.find('td').text"
      ],
      "execution_count": 43,
      "outputs": [
        {
          "output_type": "execute_result",
          "data": {
            "application/vnd.google.colaboratory.intrinsic+json": {
              "type": "string"
            },
            "text/plain": [
              "'SMA Negeri 1'"
            ]
          },
          "metadata": {
            "tags": []
          },
          "execution_count": 43
        }
      ]
    },
    {
      "cell_type": "markdown",
      "metadata": {
        "id": "Nt_5pOriLCeD"
      },
      "source": [
        "**Extracting The Lowest Score**"
      ]
    },
    {
      "cell_type": "code",
      "metadata": {
        "colab": {
          "base_uri": "https://localhost:8080/"
        },
        "id": "j4cNvd8gLMaC",
        "outputId": "8c080c1b-69d3-406f-e410-d2133d01b63a"
      },
      "source": [
        "first_result"
      ],
      "execution_count": 44,
      "outputs": [
        {
          "output_type": "execute_result",
          "data": {
            "text/plain": [
              "<tr class=\"trOdd\">\n",
              "<td>SMA Negeri 1</td>\n",
              "<td class=\"colEvn\">8.200</td>\n",
              "<td>9.563</td>\n",
              "<td class=\"colEvn\">8.58</td>\n",
              "<td align=\"center\"> <a href=\"javascript:\" onclick=\"window.location='/2012/jakarta/arsip/13031000001.html?_='+(new Date).getTime()\"><img alt=\"Statistik\" border=\"0\" hspace=\"5\" src=\"/2012/images/cont/stat/stat.gif\" title=\"Lihat Statistik Sekolah\"/></a>\n",
              "<!--      <a href=\"javascript:\" onClick=\"window.location='/2012/jakarta/seleksi/130310000010/?_='+(new Date).getTime()\"><img src=\"/2012/images/cont/stat/hasil.gif\" title=\"Lihat Hasil Seleksi\" alt=\"Seleksi\" border=\"0\" hspace=\"5\"></a> -->\n",
              "</td>\n",
              "</tr>"
            ]
          },
          "metadata": {
            "tags": []
          },
          "execution_count": 44
        }
      ]
    },
    {
      "cell_type": "code",
      "metadata": {
        "colab": {
          "base_uri": "https://localhost:8080/"
        },
        "id": "YLe8AWTeMpnv",
        "outputId": "73c508fb-45a0-45c7-9be4-9c8dce7b0514"
      },
      "source": [
        "first_result.contents"
      ],
      "execution_count": 45,
      "outputs": [
        {
          "output_type": "execute_result",
          "data": {
            "text/plain": [
              "['\\n',\n",
              " <td>SMA Negeri 1</td>,\n",
              " '\\n',\n",
              " <td class=\"colEvn\">8.200</td>,\n",
              " '\\n',\n",
              " <td>9.563</td>,\n",
              " '\\n',\n",
              " <td class=\"colEvn\">8.58</td>,\n",
              " '\\n',\n",
              " <td align=\"center\"> <a href=\"javascript:\" onclick=\"window.location='/2012/jakarta/arsip/13031000001.html?_='+(new Date).getTime()\"><img alt=\"Statistik\" border=\"0\" hspace=\"5\" src=\"/2012/images/cont/stat/stat.gif\" title=\"Lihat Statistik Sekolah\"/></a>\n",
              " <!--      <a href=\"javascript:\" onClick=\"window.location='/2012/jakarta/seleksi/130310000010/?_='+(new Date).getTime()\"><img src=\"/2012/images/cont/stat/hasil.gif\" title=\"Lihat Hasil Seleksi\" alt=\"Seleksi\" border=\"0\" hspace=\"5\"></a> -->\n",
              " </td>,\n",
              " '\\n']"
            ]
          },
          "metadata": {
            "tags": []
          },
          "execution_count": 45
        }
      ]
    },
    {
      "cell_type": "code",
      "metadata": {
        "colab": {
          "base_uri": "https://localhost:8080/"
        },
        "id": "75PG-t5DMxBx",
        "outputId": "e5593ed7-2d41-4cc3-9868-e0100cc26fb8"
      },
      "source": [
        "first_result.contents[3]"
      ],
      "execution_count": 47,
      "outputs": [
        {
          "output_type": "execute_result",
          "data": {
            "text/plain": [
              "<td class=\"colEvn\">8.200</td>"
            ]
          },
          "metadata": {
            "tags": []
          },
          "execution_count": 47
        }
      ]
    },
    {
      "cell_type": "code",
      "metadata": {
        "colab": {
          "base_uri": "https://localhost:8080/",
          "height": 35
        },
        "id": "UqjOgi2ZM_CD",
        "outputId": "4c95f032-526a-452c-fb9c-e20fc90bc8bd"
      },
      "source": [
        "first_result.contents[3].text"
      ],
      "execution_count": 48,
      "outputs": [
        {
          "output_type": "execute_result",
          "data": {
            "application/vnd.google.colaboratory.intrinsic+json": {
              "type": "string"
            },
            "text/plain": [
              "'8.200'"
            ]
          },
          "metadata": {
            "tags": []
          },
          "execution_count": 48
        }
      ]
    },
    {
      "cell_type": "markdown",
      "metadata": {
        "id": "Q-KhxJ3UNDWQ"
      },
      "source": [
        "**Extracting The Highest Score**"
      ]
    },
    {
      "cell_type": "code",
      "metadata": {
        "colab": {
          "base_uri": "https://localhost:8080/",
          "height": 35
        },
        "id": "H2zlw5IANLxi",
        "outputId": "bb5e9abb-1dc6-459e-8251-f8e6e470fc3f"
      },
      "source": [
        "first_result.contents[5].text"
      ],
      "execution_count": 50,
      "outputs": [
        {
          "output_type": "execute_result",
          "data": {
            "application/vnd.google.colaboratory.intrinsic+json": {
              "type": "string"
            },
            "text/plain": [
              "'9.563'"
            ]
          },
          "metadata": {
            "tags": []
          },
          "execution_count": 50
        }
      ]
    },
    {
      "cell_type": "markdown",
      "metadata": {
        "id": "heC85J9gNUfC"
      },
      "source": [
        "**Extracting The Mean**"
      ]
    },
    {
      "cell_type": "code",
      "metadata": {
        "colab": {
          "base_uri": "https://localhost:8080/",
          "height": 35
        },
        "id": "2dERAhnvNUGs",
        "outputId": "de0cfdbd-6ebc-4dce-dd5d-9c5f8dfbed8f"
      },
      "source": [
        "first_result.contents[7].text"
      ],
      "execution_count": 51,
      "outputs": [
        {
          "output_type": "execute_result",
          "data": {
            "application/vnd.google.colaboratory.intrinsic+json": {
              "type": "string"
            },
            "text/plain": [
              "'8.58'"
            ]
          },
          "metadata": {
            "tags": []
          },
          "execution_count": 51
        }
      ]
    },
    {
      "cell_type": "markdown",
      "metadata": {
        "id": "ZLQxbx_BOcn-"
      },
      "source": [
        "**Building Dataset**"
      ]
    },
    {
      "cell_type": "code",
      "metadata": {
        "id": "pTsXIFMZOfac"
      },
      "source": [
        "records = []\n",
        "for result in results:\n",
        "    Sekolah = result.find('td').text\n",
        "    Terendah = result.contents[3].text\n",
        "    Tertinggi = result.contents[5].text\n",
        "    Rerata = result.contents[7].text\n",
        "    records.append((Sekolah, Terendah, Tertinggi, Rerata))"
      ],
      "execution_count": 65,
      "outputs": []
    },
    {
      "cell_type": "code",
      "metadata": {
        "colab": {
          "base_uri": "https://localhost:8080/"
        },
        "id": "ZyGYX7R9Q2DI",
        "outputId": "5bf553e3-bad1-44d9-e2ed-9460aaa6e45d"
      },
      "source": [
        "len(records)"
      ],
      "execution_count": 61,
      "outputs": [
        {
          "output_type": "execute_result",
          "data": {
            "text/plain": [
              "104"
            ]
          },
          "metadata": {
            "tags": []
          },
          "execution_count": 61
        }
      ]
    },
    {
      "cell_type": "code",
      "metadata": {
        "colab": {
          "base_uri": "https://localhost:8080/"
        },
        "id": "mEnW_5N5Q4_D",
        "outputId": "ab563de5-2854-43c3-da08-8698837d2702"
      },
      "source": [
        "records[0:3]"
      ],
      "execution_count": 66,
      "outputs": [
        {
          "output_type": "execute_result",
          "data": {
            "text/plain": [
              "[('SMA Negeri 1', '8.200', '9.563', '8.58'),\n",
              " ('SMA Negeri 2', '7.813', '9.563', '8.51'),\n",
              " ('SMA Negeri 4', '7.613', '9.175', '8.05')]"
            ]
          },
          "metadata": {
            "tags": []
          },
          "execution_count": 66
        }
      ]
    },
    {
      "cell_type": "markdown",
      "metadata": {
        "id": "u-b93XVJTzO4"
      },
      "source": [
        "**Applying a Tabular Data Structure**"
      ]
    },
    {
      "cell_type": "code",
      "metadata": {
        "id": "Xp1skx1xT4Ot"
      },
      "source": [
        "import pandas as pd\n",
        "df = pd.DataFrame(records, columns=['Sekolah', 'Terendah', 'Tertinggi', 'Rerata'])"
      ],
      "execution_count": 68,
      "outputs": []
    },
    {
      "cell_type": "code",
      "metadata": {
        "colab": {
          "base_uri": "https://localhost:8080/",
          "height": 204
        },
        "id": "y1EUk_MCUQeG",
        "outputId": "c497ed9e-533d-4396-db7e-f4ae172035af"
      },
      "source": [
        "df.head()"
      ],
      "execution_count": 69,
      "outputs": [
        {
          "output_type": "execute_result",
          "data": {
            "text/html": [
              "<div>\n",
              "<style scoped>\n",
              "    .dataframe tbody tr th:only-of-type {\n",
              "        vertical-align: middle;\n",
              "    }\n",
              "\n",
              "    .dataframe tbody tr th {\n",
              "        vertical-align: top;\n",
              "    }\n",
              "\n",
              "    .dataframe thead th {\n",
              "        text-align: right;\n",
              "    }\n",
              "</style>\n",
              "<table border=\"1\" class=\"dataframe\">\n",
              "  <thead>\n",
              "    <tr style=\"text-align: right;\">\n",
              "      <th></th>\n",
              "      <th>Sekolah</th>\n",
              "      <th>Terendah</th>\n",
              "      <th>Tertinggi</th>\n",
              "      <th>Rerata</th>\n",
              "    </tr>\n",
              "  </thead>\n",
              "  <tbody>\n",
              "    <tr>\n",
              "      <th>0</th>\n",
              "      <td>SMA Negeri 1</td>\n",
              "      <td>8.200</td>\n",
              "      <td>9.563</td>\n",
              "      <td>8.58</td>\n",
              "    </tr>\n",
              "    <tr>\n",
              "      <th>1</th>\n",
              "      <td>SMA Negeri 2</td>\n",
              "      <td>7.813</td>\n",
              "      <td>9.563</td>\n",
              "      <td>8.51</td>\n",
              "    </tr>\n",
              "    <tr>\n",
              "      <th>2</th>\n",
              "      <td>SMA Negeri 4</td>\n",
              "      <td>7.613</td>\n",
              "      <td>9.175</td>\n",
              "      <td>8.05</td>\n",
              "    </tr>\n",
              "    <tr>\n",
              "      <th>3</th>\n",
              "      <td>SMA Negeri 5</td>\n",
              "      <td>6.700</td>\n",
              "      <td>9.338</td>\n",
              "      <td>7.44</td>\n",
              "    </tr>\n",
              "    <tr>\n",
              "      <th>4</th>\n",
              "      <td>SMA Negeri 6</td>\n",
              "      <td>8.900</td>\n",
              "      <td>9.775</td>\n",
              "      <td>9.09</td>\n",
              "    </tr>\n",
              "  </tbody>\n",
              "</table>\n",
              "</div>"
            ],
            "text/plain": [
              "        Sekolah Terendah Tertinggi Rerata\n",
              "0  SMA Negeri 1    8.200     9.563   8.58\n",
              "1  SMA Negeri 2    7.813     9.563   8.51\n",
              "2  SMA Negeri 4    7.613     9.175   8.05\n",
              "3  SMA Negeri 5    6.700     9.338   7.44\n",
              "4  SMA Negeri 6    8.900     9.775   9.09"
            ]
          },
          "metadata": {
            "tags": []
          },
          "execution_count": 69
        }
      ]
    },
    {
      "cell_type": "code",
      "metadata": {
        "colab": {
          "base_uri": "https://localhost:8080/",
          "height": 204
        },
        "id": "QKRgNS6LUdYF",
        "outputId": "2176b2b0-3f7f-477e-b9f6-9b94214b69e5"
      },
      "source": [
        "df.tail()"
      ],
      "execution_count": 70,
      "outputs": [
        {
          "output_type": "execute_result",
          "data": {
            "text/html": [
              "<div>\n",
              "<style scoped>\n",
              "    .dataframe tbody tr th:only-of-type {\n",
              "        vertical-align: middle;\n",
              "    }\n",
              "\n",
              "    .dataframe tbody tr th {\n",
              "        vertical-align: top;\n",
              "    }\n",
              "\n",
              "    .dataframe thead th {\n",
              "        text-align: right;\n",
              "    }\n",
              "</style>\n",
              "<table border=\"1\" class=\"dataframe\">\n",
              "  <thead>\n",
              "    <tr style=\"text-align: right;\">\n",
              "      <th></th>\n",
              "      <th>Sekolah</th>\n",
              "      <th>Terendah</th>\n",
              "      <th>Tertinggi</th>\n",
              "      <th>Rerata</th>\n",
              "    </tr>\n",
              "  </thead>\n",
              "  <tbody>\n",
              "    <tr>\n",
              "      <th>99</th>\n",
              "      <td>SMA Negeri 111</td>\n",
              "      <td>5.875</td>\n",
              "      <td>9.063</td>\n",
              "      <td>6.84</td>\n",
              "    </tr>\n",
              "    <tr>\n",
              "      <th>100</th>\n",
              "      <td>SMA Negeri 112</td>\n",
              "      <td>8.475</td>\n",
              "      <td>9.525</td>\n",
              "      <td>8.81</td>\n",
              "    </tr>\n",
              "    <tr>\n",
              "      <th>101</th>\n",
              "      <td>SMA Negeri 113</td>\n",
              "      <td>7.550</td>\n",
              "      <td>9.075</td>\n",
              "      <td>8.01</td>\n",
              "    </tr>\n",
              "    <tr>\n",
              "      <th>102</th>\n",
              "      <td>SMA Negeri 114</td>\n",
              "      <td>4.225</td>\n",
              "      <td>7.750</td>\n",
              "      <td>5.55</td>\n",
              "    </tr>\n",
              "    <tr>\n",
              "      <th>103</th>\n",
              "      <td>SMA Negeri 115</td>\n",
              "      <td>4.675</td>\n",
              "      <td>9.200</td>\n",
              "      <td>6.04</td>\n",
              "    </tr>\n",
              "  </tbody>\n",
              "</table>\n",
              "</div>"
            ],
            "text/plain": [
              "            Sekolah Terendah Tertinggi Rerata\n",
              "99   SMA Negeri 111    5.875     9.063   6.84\n",
              "100  SMA Negeri 112    8.475     9.525   8.81\n",
              "101  SMA Negeri 113    7.550     9.075   8.01\n",
              "102  SMA Negeri 114    4.225     7.750   5.55\n",
              "103  SMA Negeri 115    4.675     9.200   6.04"
            ]
          },
          "metadata": {
            "tags": []
          },
          "execution_count": 70
        }
      ]
    },
    {
      "cell_type": "markdown",
      "metadata": {
        "id": "66peIaU6Uy62"
      },
      "source": [
        "**Exporting the Dataset to a CSV File**"
      ]
    },
    {
      "cell_type": "code",
      "metadata": {
        "id": "Pk-S_z-yU3m2"
      },
      "source": [
        "df.to_csv('NEM_SMA_2020.csv', index=False, encoding='utf-8')"
      ],
      "execution_count": 71,
      "outputs": []
    },
    {
      "cell_type": "code",
      "metadata": {
        "id": "HVojri_YVLWB"
      },
      "source": [
        "df = pd.read_csv('NEM_SMA_2020.csv', encoding='utf=8')"
      ],
      "execution_count": 72,
      "outputs": []
    }
  ]
}